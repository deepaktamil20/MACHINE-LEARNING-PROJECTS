{
  "nbformat": 4,
  "nbformat_minor": 0,
  "metadata": {
    "colab": {
      "name": "Machine Learning Test 2",
      "provenance": [],
      "authorship_tag": "ABX9TyM12Ir1buzaO8nK0Gnd0aJx",
      "include_colab_link": true
    },
    "kernelspec": {
      "name": "python3",
      "display_name": "Python 3"
    },
    "language_info": {
      "name": "python"
    }
  },
  "cells": [
    {
      "cell_type": "markdown",
      "metadata": {
        "id": "view-in-github",
        "colab_type": "text"
      },
      "source": [
        "<a href=\"https://colab.research.google.com/github/deepaktamil20/MACHINE-LEARNING-TEST-2/blob/main/Machine_Learning_Test_2.ipynb\" target=\"_parent\"><img src=\"https://colab.research.google.com/assets/colab-badge.svg\" alt=\"Open In Colab\"/></a>"
      ]
    },
    {
      "cell_type": "code",
      "execution_count": 141,
      "metadata": {
        "id": "oCdMWIKuyMBi"
      },
      "outputs": [],
      "source": [
        "import pandas as pd\n",
        "import numpy as np\n",
        "import matplotlib.pyplot as plt\n",
        "import seaborn as sns"
      ]
    },
    {
      "cell_type": "code",
      "source": [
        "file=pd.read_csv(\"/content/credit_card.csv\")"
      ],
      "metadata": {
        "id": "ueTorDTXzFoA"
      },
      "execution_count": 142,
      "outputs": []
    },
    {
      "cell_type": "code",
      "source": [
        "file"
      ],
      "metadata": {
        "colab": {
          "base_uri": "https://localhost:8080/",
          "height": 488
        },
        "id": "sk5iscNNzpMq",
        "outputId": "6aa54278-89bb-4bd2-a785-0d2e1cc175f3"
      },
      "execution_count": 143,
      "outputs": [
        {
          "output_type": "execute_result",
          "data": {
            "text/plain": [
              "     CUST_ID      BALANCE  BALANCE_FREQUENCY  PURCHASES  ONEOFF_PURCHASES  \\\n",
              "0     C10001    40.900749           0.818182      95.40              0.00   \n",
              "1     C10002  3202.467416           0.909091       0.00              0.00   \n",
              "2     C10003  2495.148862           1.000000     773.17            773.17   \n",
              "3     C10004  1666.670542           0.636364    1499.00           1499.00   \n",
              "4     C10005   817.714335           1.000000      16.00             16.00   \n",
              "...      ...          ...                ...        ...               ...   \n",
              "8945  C19186    28.493517           1.000000     291.12              0.00   \n",
              "8946  C19187    19.183215           1.000000     300.00              0.00   \n",
              "8947  C19188    23.398673           0.833333     144.40              0.00   \n",
              "8948  C19189    13.457564           0.833333       0.00              0.00   \n",
              "8949  C19190   372.708075           0.666667    1093.25           1093.25   \n",
              "\n",
              "      INSTALLMENTS_PURCHASES  CASH_ADVANCE  PURCHASES_FREQUENCY  \\\n",
              "0                      95.40      0.000000             0.166667   \n",
              "1                       0.00   6442.945483             0.000000   \n",
              "2                       0.00      0.000000             1.000000   \n",
              "3                       0.00    205.788017             0.083333   \n",
              "4                       0.00      0.000000             0.083333   \n",
              "...                      ...           ...                  ...   \n",
              "8945                  291.12      0.000000             1.000000   \n",
              "8946                  300.00      0.000000             1.000000   \n",
              "8947                  144.40      0.000000             0.833333   \n",
              "8948                    0.00     36.558778             0.000000   \n",
              "8949                    0.00    127.040008             0.666667   \n",
              "\n",
              "      ONEOFF_PURCHASES_FREQUENCY  PURCHASES_INSTALLMENTS_FREQUENCY  \\\n",
              "0                       0.000000                          0.083333   \n",
              "1                       0.000000                          0.000000   \n",
              "2                       1.000000                          0.000000   \n",
              "3                       0.083333                          0.000000   \n",
              "4                       0.083333                          0.000000   \n",
              "...                          ...                               ...   \n",
              "8945                    0.000000                          0.833333   \n",
              "8946                    0.000000                          0.833333   \n",
              "8947                    0.000000                          0.666667   \n",
              "8948                    0.000000                          0.000000   \n",
              "8949                    0.666667                          0.000000   \n",
              "\n",
              "      CASH_ADVANCE_FREQUENCY  CASH_ADVANCE_TRX  PURCHASES_TRX  CREDIT_LIMIT  \\\n",
              "0                   0.000000                 0              2        1000.0   \n",
              "1                   0.250000                 4              0        7000.0   \n",
              "2                   0.000000                 0             12        7500.0   \n",
              "3                   0.083333                 1              1        7500.0   \n",
              "4                   0.000000                 0              1        1200.0   \n",
              "...                      ...               ...            ...           ...   \n",
              "8945                0.000000                 0              6        1000.0   \n",
              "8946                0.000000                 0              6        1000.0   \n",
              "8947                0.000000                 0              5        1000.0   \n",
              "8948                0.166667                 2              0         500.0   \n",
              "8949                0.333333                 2             23        1200.0   \n",
              "\n",
              "         PAYMENTS  MINIMUM_PAYMENTS  PRC_FULL_PAYMENT  TENURE  \n",
              "0      201.802084        139.509787          0.000000      12  \n",
              "1     4103.032597       1072.340217          0.222222      12  \n",
              "2      622.066742        627.284787          0.000000      12  \n",
              "3        0.000000               NaN          0.000000      12  \n",
              "4      678.334763        244.791237          0.000000      12  \n",
              "...           ...               ...               ...     ...  \n",
              "8945   325.594462         48.886365          0.500000       6  \n",
              "8946   275.861322               NaN          0.000000       6  \n",
              "8947    81.270775         82.418369          0.250000       6  \n",
              "8948    52.549959         55.755628          0.250000       6  \n",
              "8949    63.165404         88.288956          0.000000       6  \n",
              "\n",
              "[8950 rows x 18 columns]"
            ],
            "text/html": [
              "\n",
              "  <div id=\"df-929240d7-c875-41f3-b36e-0e2336fe7400\">\n",
              "    <div class=\"colab-df-container\">\n",
              "      <div>\n",
              "<style scoped>\n",
              "    .dataframe tbody tr th:only-of-type {\n",
              "        vertical-align: middle;\n",
              "    }\n",
              "\n",
              "    .dataframe tbody tr th {\n",
              "        vertical-align: top;\n",
              "    }\n",
              "\n",
              "    .dataframe thead th {\n",
              "        text-align: right;\n",
              "    }\n",
              "</style>\n",
              "<table border=\"1\" class=\"dataframe\">\n",
              "  <thead>\n",
              "    <tr style=\"text-align: right;\">\n",
              "      <th></th>\n",
              "      <th>CUST_ID</th>\n",
              "      <th>BALANCE</th>\n",
              "      <th>BALANCE_FREQUENCY</th>\n",
              "      <th>PURCHASES</th>\n",
              "      <th>ONEOFF_PURCHASES</th>\n",
              "      <th>INSTALLMENTS_PURCHASES</th>\n",
              "      <th>CASH_ADVANCE</th>\n",
              "      <th>PURCHASES_FREQUENCY</th>\n",
              "      <th>ONEOFF_PURCHASES_FREQUENCY</th>\n",
              "      <th>PURCHASES_INSTALLMENTS_FREQUENCY</th>\n",
              "      <th>CASH_ADVANCE_FREQUENCY</th>\n",
              "      <th>CASH_ADVANCE_TRX</th>\n",
              "      <th>PURCHASES_TRX</th>\n",
              "      <th>CREDIT_LIMIT</th>\n",
              "      <th>PAYMENTS</th>\n",
              "      <th>MINIMUM_PAYMENTS</th>\n",
              "      <th>PRC_FULL_PAYMENT</th>\n",
              "      <th>TENURE</th>\n",
              "    </tr>\n",
              "  </thead>\n",
              "  <tbody>\n",
              "    <tr>\n",
              "      <th>0</th>\n",
              "      <td>C10001</td>\n",
              "      <td>40.900749</td>\n",
              "      <td>0.818182</td>\n",
              "      <td>95.40</td>\n",
              "      <td>0.00</td>\n",
              "      <td>95.40</td>\n",
              "      <td>0.000000</td>\n",
              "      <td>0.166667</td>\n",
              "      <td>0.000000</td>\n",
              "      <td>0.083333</td>\n",
              "      <td>0.000000</td>\n",
              "      <td>0</td>\n",
              "      <td>2</td>\n",
              "      <td>1000.0</td>\n",
              "      <td>201.802084</td>\n",
              "      <td>139.509787</td>\n",
              "      <td>0.000000</td>\n",
              "      <td>12</td>\n",
              "    </tr>\n",
              "    <tr>\n",
              "      <th>1</th>\n",
              "      <td>C10002</td>\n",
              "      <td>3202.467416</td>\n",
              "      <td>0.909091</td>\n",
              "      <td>0.00</td>\n",
              "      <td>0.00</td>\n",
              "      <td>0.00</td>\n",
              "      <td>6442.945483</td>\n",
              "      <td>0.000000</td>\n",
              "      <td>0.000000</td>\n",
              "      <td>0.000000</td>\n",
              "      <td>0.250000</td>\n",
              "      <td>4</td>\n",
              "      <td>0</td>\n",
              "      <td>7000.0</td>\n",
              "      <td>4103.032597</td>\n",
              "      <td>1072.340217</td>\n",
              "      <td>0.222222</td>\n",
              "      <td>12</td>\n",
              "    </tr>\n",
              "    <tr>\n",
              "      <th>2</th>\n",
              "      <td>C10003</td>\n",
              "      <td>2495.148862</td>\n",
              "      <td>1.000000</td>\n",
              "      <td>773.17</td>\n",
              "      <td>773.17</td>\n",
              "      <td>0.00</td>\n",
              "      <td>0.000000</td>\n",
              "      <td>1.000000</td>\n",
              "      <td>1.000000</td>\n",
              "      <td>0.000000</td>\n",
              "      <td>0.000000</td>\n",
              "      <td>0</td>\n",
              "      <td>12</td>\n",
              "      <td>7500.0</td>\n",
              "      <td>622.066742</td>\n",
              "      <td>627.284787</td>\n",
              "      <td>0.000000</td>\n",
              "      <td>12</td>\n",
              "    </tr>\n",
              "    <tr>\n",
              "      <th>3</th>\n",
              "      <td>C10004</td>\n",
              "      <td>1666.670542</td>\n",
              "      <td>0.636364</td>\n",
              "      <td>1499.00</td>\n",
              "      <td>1499.00</td>\n",
              "      <td>0.00</td>\n",
              "      <td>205.788017</td>\n",
              "      <td>0.083333</td>\n",
              "      <td>0.083333</td>\n",
              "      <td>0.000000</td>\n",
              "      <td>0.083333</td>\n",
              "      <td>1</td>\n",
              "      <td>1</td>\n",
              "      <td>7500.0</td>\n",
              "      <td>0.000000</td>\n",
              "      <td>NaN</td>\n",
              "      <td>0.000000</td>\n",
              "      <td>12</td>\n",
              "    </tr>\n",
              "    <tr>\n",
              "      <th>4</th>\n",
              "      <td>C10005</td>\n",
              "      <td>817.714335</td>\n",
              "      <td>1.000000</td>\n",
              "      <td>16.00</td>\n",
              "      <td>16.00</td>\n",
              "      <td>0.00</td>\n",
              "      <td>0.000000</td>\n",
              "      <td>0.083333</td>\n",
              "      <td>0.083333</td>\n",
              "      <td>0.000000</td>\n",
              "      <td>0.000000</td>\n",
              "      <td>0</td>\n",
              "      <td>1</td>\n",
              "      <td>1200.0</td>\n",
              "      <td>678.334763</td>\n",
              "      <td>244.791237</td>\n",
              "      <td>0.000000</td>\n",
              "      <td>12</td>\n",
              "    </tr>\n",
              "    <tr>\n",
              "      <th>...</th>\n",
              "      <td>...</td>\n",
              "      <td>...</td>\n",
              "      <td>...</td>\n",
              "      <td>...</td>\n",
              "      <td>...</td>\n",
              "      <td>...</td>\n",
              "      <td>...</td>\n",
              "      <td>...</td>\n",
              "      <td>...</td>\n",
              "      <td>...</td>\n",
              "      <td>...</td>\n",
              "      <td>...</td>\n",
              "      <td>...</td>\n",
              "      <td>...</td>\n",
              "      <td>...</td>\n",
              "      <td>...</td>\n",
              "      <td>...</td>\n",
              "      <td>...</td>\n",
              "    </tr>\n",
              "    <tr>\n",
              "      <th>8945</th>\n",
              "      <td>C19186</td>\n",
              "      <td>28.493517</td>\n",
              "      <td>1.000000</td>\n",
              "      <td>291.12</td>\n",
              "      <td>0.00</td>\n",
              "      <td>291.12</td>\n",
              "      <td>0.000000</td>\n",
              "      <td>1.000000</td>\n",
              "      <td>0.000000</td>\n",
              "      <td>0.833333</td>\n",
              "      <td>0.000000</td>\n",
              "      <td>0</td>\n",
              "      <td>6</td>\n",
              "      <td>1000.0</td>\n",
              "      <td>325.594462</td>\n",
              "      <td>48.886365</td>\n",
              "      <td>0.500000</td>\n",
              "      <td>6</td>\n",
              "    </tr>\n",
              "    <tr>\n",
              "      <th>8946</th>\n",
              "      <td>C19187</td>\n",
              "      <td>19.183215</td>\n",
              "      <td>1.000000</td>\n",
              "      <td>300.00</td>\n",
              "      <td>0.00</td>\n",
              "      <td>300.00</td>\n",
              "      <td>0.000000</td>\n",
              "      <td>1.000000</td>\n",
              "      <td>0.000000</td>\n",
              "      <td>0.833333</td>\n",
              "      <td>0.000000</td>\n",
              "      <td>0</td>\n",
              "      <td>6</td>\n",
              "      <td>1000.0</td>\n",
              "      <td>275.861322</td>\n",
              "      <td>NaN</td>\n",
              "      <td>0.000000</td>\n",
              "      <td>6</td>\n",
              "    </tr>\n",
              "    <tr>\n",
              "      <th>8947</th>\n",
              "      <td>C19188</td>\n",
              "      <td>23.398673</td>\n",
              "      <td>0.833333</td>\n",
              "      <td>144.40</td>\n",
              "      <td>0.00</td>\n",
              "      <td>144.40</td>\n",
              "      <td>0.000000</td>\n",
              "      <td>0.833333</td>\n",
              "      <td>0.000000</td>\n",
              "      <td>0.666667</td>\n",
              "      <td>0.000000</td>\n",
              "      <td>0</td>\n",
              "      <td>5</td>\n",
              "      <td>1000.0</td>\n",
              "      <td>81.270775</td>\n",
              "      <td>82.418369</td>\n",
              "      <td>0.250000</td>\n",
              "      <td>6</td>\n",
              "    </tr>\n",
              "    <tr>\n",
              "      <th>8948</th>\n",
              "      <td>C19189</td>\n",
              "      <td>13.457564</td>\n",
              "      <td>0.833333</td>\n",
              "      <td>0.00</td>\n",
              "      <td>0.00</td>\n",
              "      <td>0.00</td>\n",
              "      <td>36.558778</td>\n",
              "      <td>0.000000</td>\n",
              "      <td>0.000000</td>\n",
              "      <td>0.000000</td>\n",
              "      <td>0.166667</td>\n",
              "      <td>2</td>\n",
              "      <td>0</td>\n",
              "      <td>500.0</td>\n",
              "      <td>52.549959</td>\n",
              "      <td>55.755628</td>\n",
              "      <td>0.250000</td>\n",
              "      <td>6</td>\n",
              "    </tr>\n",
              "    <tr>\n",
              "      <th>8949</th>\n",
              "      <td>C19190</td>\n",
              "      <td>372.708075</td>\n",
              "      <td>0.666667</td>\n",
              "      <td>1093.25</td>\n",
              "      <td>1093.25</td>\n",
              "      <td>0.00</td>\n",
              "      <td>127.040008</td>\n",
              "      <td>0.666667</td>\n",
              "      <td>0.666667</td>\n",
              "      <td>0.000000</td>\n",
              "      <td>0.333333</td>\n",
              "      <td>2</td>\n",
              "      <td>23</td>\n",
              "      <td>1200.0</td>\n",
              "      <td>63.165404</td>\n",
              "      <td>88.288956</td>\n",
              "      <td>0.000000</td>\n",
              "      <td>6</td>\n",
              "    </tr>\n",
              "  </tbody>\n",
              "</table>\n",
              "<p>8950 rows × 18 columns</p>\n",
              "</div>\n",
              "      <button class=\"colab-df-convert\" onclick=\"convertToInteractive('df-929240d7-c875-41f3-b36e-0e2336fe7400')\"\n",
              "              title=\"Convert this dataframe to an interactive table.\"\n",
              "              style=\"display:none;\">\n",
              "        \n",
              "  <svg xmlns=\"http://www.w3.org/2000/svg\" height=\"24px\"viewBox=\"0 0 24 24\"\n",
              "       width=\"24px\">\n",
              "    <path d=\"M0 0h24v24H0V0z\" fill=\"none\"/>\n",
              "    <path d=\"M18.56 5.44l.94 2.06.94-2.06 2.06-.94-2.06-.94-.94-2.06-.94 2.06-2.06.94zm-11 1L8.5 8.5l.94-2.06 2.06-.94-2.06-.94L8.5 2.5l-.94 2.06-2.06.94zm10 10l.94 2.06.94-2.06 2.06-.94-2.06-.94-.94-2.06-.94 2.06-2.06.94z\"/><path d=\"M17.41 7.96l-1.37-1.37c-.4-.4-.92-.59-1.43-.59-.52 0-1.04.2-1.43.59L10.3 9.45l-7.72 7.72c-.78.78-.78 2.05 0 2.83L4 21.41c.39.39.9.59 1.41.59.51 0 1.02-.2 1.41-.59l7.78-7.78 2.81-2.81c.8-.78.8-2.07 0-2.86zM5.41 20L4 18.59l7.72-7.72 1.47 1.35L5.41 20z\"/>\n",
              "  </svg>\n",
              "      </button>\n",
              "      \n",
              "  <style>\n",
              "    .colab-df-container {\n",
              "      display:flex;\n",
              "      flex-wrap:wrap;\n",
              "      gap: 12px;\n",
              "    }\n",
              "\n",
              "    .colab-df-convert {\n",
              "      background-color: #E8F0FE;\n",
              "      border: none;\n",
              "      border-radius: 50%;\n",
              "      cursor: pointer;\n",
              "      display: none;\n",
              "      fill: #1967D2;\n",
              "      height: 32px;\n",
              "      padding: 0 0 0 0;\n",
              "      width: 32px;\n",
              "    }\n",
              "\n",
              "    .colab-df-convert:hover {\n",
              "      background-color: #E2EBFA;\n",
              "      box-shadow: 0px 1px 2px rgba(60, 64, 67, 0.3), 0px 1px 3px 1px rgba(60, 64, 67, 0.15);\n",
              "      fill: #174EA6;\n",
              "    }\n",
              "\n",
              "    [theme=dark] .colab-df-convert {\n",
              "      background-color: #3B4455;\n",
              "      fill: #D2E3FC;\n",
              "    }\n",
              "\n",
              "    [theme=dark] .colab-df-convert:hover {\n",
              "      background-color: #434B5C;\n",
              "      box-shadow: 0px 1px 3px 1px rgba(0, 0, 0, 0.15);\n",
              "      filter: drop-shadow(0px 1px 2px rgba(0, 0, 0, 0.3));\n",
              "      fill: #FFFFFF;\n",
              "    }\n",
              "  </style>\n",
              "\n",
              "      <script>\n",
              "        const buttonEl =\n",
              "          document.querySelector('#df-929240d7-c875-41f3-b36e-0e2336fe7400 button.colab-df-convert');\n",
              "        buttonEl.style.display =\n",
              "          google.colab.kernel.accessAllowed ? 'block' : 'none';\n",
              "\n",
              "        async function convertToInteractive(key) {\n",
              "          const element = document.querySelector('#df-929240d7-c875-41f3-b36e-0e2336fe7400');\n",
              "          const dataTable =\n",
              "            await google.colab.kernel.invokeFunction('convertToInteractive',\n",
              "                                                     [key], {});\n",
              "          if (!dataTable) return;\n",
              "\n",
              "          const docLinkHtml = 'Like what you see? Visit the ' +\n",
              "            '<a target=\"_blank\" href=https://colab.research.google.com/notebooks/data_table.ipynb>data table notebook</a>'\n",
              "            + ' to learn more about interactive tables.';\n",
              "          element.innerHTML = '';\n",
              "          dataTable['output_type'] = 'display_data';\n",
              "          await google.colab.output.renderOutput(dataTable, element);\n",
              "          const docLink = document.createElement('div');\n",
              "          docLink.innerHTML = docLinkHtml;\n",
              "          element.appendChild(docLink);\n",
              "        }\n",
              "      </script>\n",
              "    </div>\n",
              "  </div>\n",
              "  "
            ]
          },
          "metadata": {},
          "execution_count": 143
        }
      ]
    },
    {
      "cell_type": "code",
      "source": [
        "file.info()"
      ],
      "metadata": {
        "colab": {
          "base_uri": "https://localhost:8080/"
        },
        "id": "ukIkJ09ozrjh",
        "outputId": "16e4614f-4718-4e9d-ef88-2806d8049ee7"
      },
      "execution_count": 144,
      "outputs": [
        {
          "output_type": "stream",
          "name": "stdout",
          "text": [
            "<class 'pandas.core.frame.DataFrame'>\n",
            "RangeIndex: 8950 entries, 0 to 8949\n",
            "Data columns (total 18 columns):\n",
            " #   Column                            Non-Null Count  Dtype  \n",
            "---  ------                            --------------  -----  \n",
            " 0   CUST_ID                           8950 non-null   object \n",
            " 1   BALANCE                           8950 non-null   float64\n",
            " 2   BALANCE_FREQUENCY                 8950 non-null   float64\n",
            " 3   PURCHASES                         8950 non-null   float64\n",
            " 4   ONEOFF_PURCHASES                  8950 non-null   float64\n",
            " 5   INSTALLMENTS_PURCHASES            8950 non-null   float64\n",
            " 6   CASH_ADVANCE                      8950 non-null   float64\n",
            " 7   PURCHASES_FREQUENCY               8950 non-null   float64\n",
            " 8   ONEOFF_PURCHASES_FREQUENCY        8950 non-null   float64\n",
            " 9   PURCHASES_INSTALLMENTS_FREQUENCY  8950 non-null   float64\n",
            " 10  CASH_ADVANCE_FREQUENCY            8950 non-null   float64\n",
            " 11  CASH_ADVANCE_TRX                  8950 non-null   int64  \n",
            " 12  PURCHASES_TRX                     8950 non-null   int64  \n",
            " 13  CREDIT_LIMIT                      8949 non-null   float64\n",
            " 14  PAYMENTS                          8950 non-null   float64\n",
            " 15  MINIMUM_PAYMENTS                  8637 non-null   float64\n",
            " 16  PRC_FULL_PAYMENT                  8950 non-null   float64\n",
            " 17  TENURE                            8950 non-null   int64  \n",
            "dtypes: float64(14), int64(3), object(1)\n",
            "memory usage: 1.2+ MB\n"
          ]
        }
      ]
    },
    {
      "cell_type": "code",
      "source": [
        "file.isna().sum() #to display the null values and its sum\n"
      ],
      "metadata": {
        "colab": {
          "base_uri": "https://localhost:8080/"
        },
        "id": "RNZ2EBr9zylb",
        "outputId": "f7dd361b-8b57-47fe-b684-0aff89534da6"
      },
      "execution_count": 145,
      "outputs": [
        {
          "output_type": "execute_result",
          "data": {
            "text/plain": [
              "CUST_ID                               0\n",
              "BALANCE                               0\n",
              "BALANCE_FREQUENCY                     0\n",
              "PURCHASES                             0\n",
              "ONEOFF_PURCHASES                      0\n",
              "INSTALLMENTS_PURCHASES                0\n",
              "CASH_ADVANCE                          0\n",
              "PURCHASES_FREQUENCY                   0\n",
              "ONEOFF_PURCHASES_FREQUENCY            0\n",
              "PURCHASES_INSTALLMENTS_FREQUENCY      0\n",
              "CASH_ADVANCE_FREQUENCY                0\n",
              "CASH_ADVANCE_TRX                      0\n",
              "PURCHASES_TRX                         0\n",
              "CREDIT_LIMIT                          1\n",
              "PAYMENTS                              0\n",
              "MINIMUM_PAYMENTS                    313\n",
              "PRC_FULL_PAYMENT                      0\n",
              "TENURE                                0\n",
              "dtype: int64"
            ]
          },
          "metadata": {},
          "execution_count": 145
        }
      ]
    },
    {
      "cell_type": "code",
      "source": [
        "file=file.drop([\"CUST_ID\"], axis=1)"
      ],
      "metadata": {
        "id": "7QDaZBkyz0f6"
      },
      "execution_count": 146,
      "outputs": []
    },
    {
      "cell_type": "code",
      "source": [
        "file.columns"
      ],
      "metadata": {
        "colab": {
          "base_uri": "https://localhost:8080/"
        },
        "id": "Wk_ALoEoz8ly",
        "outputId": "8f85ae33-d30c-42b0-d0bd-1d0c5e1807dc"
      },
      "execution_count": 147,
      "outputs": [
        {
          "output_type": "execute_result",
          "data": {
            "text/plain": [
              "Index(['BALANCE', 'BALANCE_FREQUENCY', 'PURCHASES', 'ONEOFF_PURCHASES',\n",
              "       'INSTALLMENTS_PURCHASES', 'CASH_ADVANCE', 'PURCHASES_FREQUENCY',\n",
              "       'ONEOFF_PURCHASES_FREQUENCY', 'PURCHASES_INSTALLMENTS_FREQUENCY',\n",
              "       'CASH_ADVANCE_FREQUENCY', 'CASH_ADVANCE_TRX', 'PURCHASES_TRX',\n",
              "       'CREDIT_LIMIT', 'PAYMENTS', 'MINIMUM_PAYMENTS', 'PRC_FULL_PAYMENT',\n",
              "       'TENURE'],\n",
              "      dtype='object')"
            ]
          },
          "metadata": {},
          "execution_count": 147
        }
      ]
    },
    {
      "cell_type": "code",
      "source": [
        "fig=file.hist(figsize=(15,20),color='black')\n",
        "plt.show()"
      ],
      "metadata": {
        "colab": {
          "base_uri": "https://localhost:8080/",
          "height": 1000
        },
        "id": "QvyTTlNIBn1z",
        "outputId": "cfa2b558-26a7-4587-d84c-6e2e5bffa1c2"
      },
      "execution_count": 148,
      "outputs": [
        {
          "output_type": "display_data",
          "data": {
            "text/plain": [
              "<Figure size 1080x1440 with 20 Axes>"
            ],
            "image/png": "[encoded data removed]"
          },
          "metadata": {}
        }
      ]
    },
    {
      "cell_type": "code",
      "source": [
        "sns.heatmap(file.corr(),annot=True,linewidths=6.0)\n",
        "plt.show()"
      ],
      "metadata": {
        "colab": {
          "base_uri": "https://localhost:8080/",
          "height": 553
        },
        "id": "dF1cR97aN4_o",
        "outputId": "5ac1382f-cd3d-4426-e194-2c05a12551eb"
      },
      "execution_count": 149,
      "outputs": [
        {
          "output_type": "display_data",
          "data": {
            "text/plain": [
              "<Figure size 576x396 with 2 Axes>"
            ],
            "image/png": "[encoded data removed]"
          },
          "metadata": {}
        }
      ]
    },
    {
      "cell_type": "code",
      "source": [
        "file.describe()"
      ],
      "metadata": {
        "colab": {
          "base_uri": "https://localhost:8080/",
          "height": 364
        },
        "id": "Sqf4AXqsO6q2",
        "outputId": "eca967e2-828f-4385-8a9e-7e00cc9be5d6"
      },
      "execution_count": 150,
      "outputs": [
        {
          "output_type": "execute_result",
          "data": {
            "text/plain": [
              "            BALANCE  BALANCE_FREQUENCY     PURCHASES  ONEOFF_PURCHASES  \\\n",
              "count   8950.000000        8950.000000   8950.000000       8950.000000   \n",
              "mean    1564.474828           0.877271   1003.204834        592.437371   \n",
              "std     2081.531879           0.236904   2136.634782       1659.887917   \n",
              "min        0.000000           0.000000      0.000000          0.000000   \n",
              "25%      128.281915           0.888889     39.635000          0.000000   \n",
              "50%      873.385231           1.000000    361.280000         38.000000   \n",
              "75%     2054.140036           1.000000   1110.130000        577.405000   \n",
              "max    19043.138560           1.000000  49039.570000      40761.250000   \n",
              "\n",
              "       INSTALLMENTS_PURCHASES  CASH_ADVANCE  PURCHASES_FREQUENCY  \\\n",
              "count             8950.000000   8950.000000          8950.000000   \n",
              "mean               411.067645    978.871112             0.490351   \n",
              "std                904.338115   2097.163877             0.401371   \n",
              "min                  0.000000      0.000000             0.000000   \n",
              "25%                  0.000000      0.000000             0.083333   \n",
              "50%                 89.000000      0.000000             0.500000   \n",
              "75%                468.637500   1113.821139             0.916667   \n",
              "max              22500.000000  47137.211760             1.000000   \n",
              "\n",
              "       ONEOFF_PURCHASES_FREQUENCY  PURCHASES_INSTALLMENTS_FREQUENCY  \\\n",
              "count                 8950.000000                       8950.000000   \n",
              "mean                     0.202458                          0.364437   \n",
              "std                      0.298336                          0.397448   \n",
              "min                      0.000000                          0.000000   \n",
              "25%                      0.000000                          0.000000   \n",
              "50%                      0.083333                          0.166667   \n",
              "75%                      0.300000                          0.750000   \n",
              "max                      1.000000                          1.000000   \n",
              "\n",
              "       CASH_ADVANCE_FREQUENCY  CASH_ADVANCE_TRX  PURCHASES_TRX  CREDIT_LIMIT  \\\n",
              "count             8950.000000       8950.000000    8950.000000   8949.000000   \n",
              "mean                 0.135144          3.248827      14.709832   4494.449450   \n",
              "std                  0.200121          6.824647      24.857649   3638.815725   \n",
              "min                  0.000000          0.000000       0.000000     50.000000   \n",
              "25%                  0.000000          0.000000       1.000000   1600.000000   \n",
              "50%                  0.000000          0.000000       7.000000   3000.000000   \n",
              "75%                  0.222222          4.000000      17.000000   6500.000000   \n",
              "max                  1.500000        123.000000     358.000000  30000.000000   \n",
              "\n",
              "           PAYMENTS  MINIMUM_PAYMENTS  PRC_FULL_PAYMENT       TENURE  \n",
              "count   8950.000000       8637.000000       8950.000000  8950.000000  \n",
              "mean    1733.143852        864.206542          0.153715    11.517318  \n",
              "std     2895.063757       2372.446607          0.292499     1.338331  \n",
              "min        0.000000          0.019163          0.000000     6.000000  \n",
              "25%      383.276166        169.123707          0.000000    12.000000  \n",
              "50%      856.901546        312.343947          0.000000    12.000000  \n",
              "75%     1901.134317        825.485459          0.142857    12.000000  \n",
              "max    50721.483360      76406.207520          1.000000    12.000000  "
            ],
            "text/html": [
              "\n",
              "  <div id=\"df-2318544e-8dd8-4f3e-92ff-81fb708b48d9\">\n",
              "    <div class=\"colab-df-container\">\n",
              "      <div>\n",
              "<style scoped>\n",
              "    .dataframe tbody tr th:only-of-type {\n",
              "        vertical-align: middle;\n",
              "    }\n",
              "\n",
              "    .dataframe tbody tr th {\n",
              "        vertical-align: top;\n",
              "    }\n",
              "\n",
              "    .dataframe thead th {\n",
              "        text-align: right;\n",
              "    }\n",
              "</style>\n",
              "<table border=\"1\" class=\"dataframe\">\n",
              "  <thead>\n",
              "    <tr style=\"text-align: right;\">\n",
              "      <th></th>\n",
              "      <th>BALANCE</th>\n",
              "      <th>BALANCE_FREQUENCY</th>\n",
              "      <th>PURCHASES</th>\n",
              "      <th>ONEOFF_PURCHASES</th>\n",
              "      <th>INSTALLMENTS_PURCHASES</th>\n",
              "      <th>CASH_ADVANCE</th>\n",
              "      <th>PURCHASES_FREQUENCY</th>\n",
              "      <th>ONEOFF_PURCHASES_FREQUENCY</th>\n",
              "      <th>PURCHASES_INSTALLMENTS_FREQUENCY</th>\n",
              "      <th>CASH_ADVANCE_FREQUENCY</th>\n",
              "      <th>CASH_ADVANCE_TRX</th>\n",
              "      <th>PURCHASES_TRX</th>\n",
              "      <th>CREDIT_LIMIT</th>\n",
              "      <th>PAYMENTS</th>\n",
              "      <th>MINIMUM_PAYMENTS</th>\n",
              "      <th>PRC_FULL_PAYMENT</th>\n",
              "      <th>TENURE</th>\n",
              "    </tr>\n",
              "  </thead>\n",
              "  <tbody>\n",
              "    <tr>\n",
              "      <th>count</th>\n",
              "      <td>8950.000000</td>\n",
              "      <td>8950.000000</td>\n",
              "      <td>8950.000000</td>\n",
              "      <td>8950.000000</td>\n",
              "      <td>8950.000000</td>\n",
              "      <td>8950.000000</td>\n",
              "      <td>8950.000000</td>\n",
              "      <td>8950.000000</td>\n",
              "      <td>8950.000000</td>\n",
              "      <td>8950.000000</td>\n",
              "      <td>8950.000000</td>\n",
              "      <td>8950.000000</td>\n",
              "      <td>8949.000000</td>\n",
              "      <td>8950.000000</td>\n",
              "      <td>8637.000000</td>\n",
              "      <td>8950.000000</td>\n",
              "      <td>8950.000000</td>\n",
              "    </tr>\n",
              "    <tr>\n",
              "      <th>mean</th>\n",
              "      <td>1564.474828</td>\n",
              "      <td>0.877271</td>\n",
              "      <td>1003.204834</td>\n",
              "      <td>592.437371</td>\n",
              "      <td>411.067645</td>\n",
              "      <td>978.871112</td>\n",
              "      <td>0.490351</td>\n",
              "      <td>0.202458</td>\n",
              "      <td>0.364437</td>\n",
              "      <td>0.135144</td>\n",
              "      <td>3.248827</td>\n",
              "      <td>14.709832</td>\n",
              "      <td>4494.449450</td>\n",
              "      <td>1733.143852</td>\n",
              "      <td>864.206542</td>\n",
              "      <td>0.153715</td>\n",
              "      <td>11.517318</td>\n",
              "    </tr>\n",
              "    <tr>\n",
              "      <th>std</th>\n",
              "      <td>2081.531879</td>\n",
              "      <td>0.236904</td>\n",
              "      <td>2136.634782</td>\n",
              "      <td>1659.887917</td>\n",
              "      <td>904.338115</td>\n",
              "      <td>2097.163877</td>\n",
              "      <td>0.401371</td>\n",
              "      <td>0.298336</td>\n",
              "      <td>0.397448</td>\n",
              "      <td>0.200121</td>\n",
              "      <td>6.824647</td>\n",
              "      <td>24.857649</td>\n",
              "      <td>3638.815725</td>\n",
              "      <td>2895.063757</td>\n",
              "      <td>2372.446607</td>\n",
              "      <td>0.292499</td>\n",
              "      <td>1.338331</td>\n",
              "    </tr>\n",
              "    <tr>\n",
              "      <th>min</th>\n",
              "      <td>0.000000</td>\n",
              "      <td>0.000000</td>\n",
              "      <td>0.000000</td>\n",
              "      <td>0.000000</td>\n",
              "      <td>0.000000</td>\n",
              "      <td>0.000000</td>\n",
              "      <td>0.000000</td>\n",
              "      <td>0.000000</td>\n",
              "      <td>0.000000</td>\n",
              "      <td>0.000000</td>\n",
              "      <td>0.000000</td>\n",
              "      <td>0.000000</td>\n",
              "      <td>50.000000</td>\n",
              "      <td>0.000000</td>\n",
              "      <td>0.019163</td>\n",
              "      <td>0.000000</td>\n",
              "      <td>6.000000</td>\n",
              "    </tr>\n",
              "    <tr>\n",
              "      <th>25%</th>\n",
              "      <td>128.281915</td>\n",
              "      <td>0.888889</td>\n",
              "      <td>39.635000</td>\n",
              "      <td>0.000000</td>\n",
              "      <td>0.000000</td>\n",
              "      <td>0.000000</td>\n",
              "      <td>0.083333</td>\n",
              "      <td>0.000000</td>\n",
              "      <td>0.000000</td>\n",
              "      <td>0.000000</td>\n",
              "      <td>0.000000</td>\n",
              "      <td>1.000000</td>\n",
              "      <td>1600.000000</td>\n",
              "      <td>383.276166</td>\n",
              "      <td>169.123707</td>\n",
              "      <td>0.000000</td>\n",
              "      <td>12.000000</td>\n",
              "    </tr>\n",
              "    <tr>\n",
              "      <th>50%</th>\n",
              "      <td>873.385231</td>\n",
              "      <td>1.000000</td>\n",
              "      <td>361.280000</td>\n",
              "      <td>38.000000</td>\n",
              "      <td>89.000000</td>\n",
              "      <td>0.000000</td>\n",
              "      <td>0.500000</td>\n",
              "      <td>0.083333</td>\n",
              "      <td>0.166667</td>\n",
              "      <td>0.000000</td>\n",
              "      <td>0.000000</td>\n",
              "      <td>7.000000</td>\n",
              "      <td>3000.000000</td>\n",
              "      <td>856.901546</td>\n",
              "      <td>312.343947</td>\n",
              "      <td>0.000000</td>\n",
              "      <td>12.000000</td>\n",
              "    </tr>\n",
              "    <tr>\n",
              "      <th>75%</th>\n",
              "      <td>2054.140036</td>\n",
              "      <td>1.000000</td>\n",
              "      <td>1110.130000</td>\n",
              "      <td>577.405000</td>\n",
              "      <td>468.637500</td>\n",
              "      <td>1113.821139</td>\n",
              "      <td>0.916667</td>\n",
              "      <td>0.300000</td>\n",
              "      <td>0.750000</td>\n",
              "      <td>0.222222</td>\n",
              "      <td>4.000000</td>\n",
              "      <td>17.000000</td>\n",
              "      <td>6500.000000</td>\n",
              "      <td>1901.134317</td>\n",
              "      <td>825.485459</td>\n",
              "      <td>0.142857</td>\n",
              "      <td>12.000000</td>\n",
              "    </tr>\n",
              "    <tr>\n",
              "      <th>max</th>\n",
              "      <td>19043.138560</td>\n",
              "      <td>1.000000</td>\n",
              "      <td>49039.570000</td>\n",
              "      <td>40761.250000</td>\n",
              "      <td>22500.000000</td>\n",
              "      <td>47137.211760</td>\n",
              "      <td>1.000000</td>\n",
              "      <td>1.000000</td>\n",
              "      <td>1.000000</td>\n",
              "      <td>1.500000</td>\n",
              "      <td>123.000000</td>\n",
              "      <td>358.000000</td>\n",
              "      <td>30000.000000</td>\n",
              "      <td>50721.483360</td>\n",
              "      <td>76406.207520</td>\n",
              "      <td>1.000000</td>\n",
              "      <td>12.000000</td>\n",
              "    </tr>\n",
              "  </tbody>\n",
              "</table>\n",
              "</div>\n",
              "      <button class=\"colab-df-convert\" onclick=\"convertToInteractive('df-2318544e-8dd8-4f3e-92ff-81fb708b48d9')\"\n",
              "              title=\"Convert this dataframe to an interactive table.\"\n",
              "              style=\"display:none;\">\n",
              "        \n",
              "  <svg xmlns=\"http://www.w3.org/2000/svg\" height=\"24px\"viewBox=\"0 0 24 24\"\n",
              "       width=\"24px\">\n",
              "    <path d=\"M0 0h24v24H0V0z\" fill=\"none\"/>\n",
              "    <path d=\"M18.56 5.44l.94 2.06.94-2.06 2.06-.94-2.06-.94-.94-2.06-.94 2.06-2.06.94zm-11 1L8.5 8.5l.94-2.06 2.06-.94-2.06-.94L8.5 2.5l-.94 2.06-2.06.94zm10 10l.94 2.06.94-2.06 2.06-.94-2.06-.94-.94-2.06-.94 2.06-2.06.94z\"/><path d=\"M17.41 7.96l-1.37-1.37c-.4-.4-.92-.59-1.43-.59-.52 0-1.04.2-1.43.59L10.3 9.45l-7.72 7.72c-.78.78-.78 2.05 0 2.83L4 21.41c.39.39.9.59 1.41.59.51 0 1.02-.2 1.41-.59l7.78-7.78 2.81-2.81c.8-.78.8-2.07 0-2.86zM5.41 20L4 18.59l7.72-7.72 1.47 1.35L5.41 20z\"/>\n",
              "  </svg>\n",
              "      </button>\n",
              "      \n",
              "  <style>\n",
              "    .colab-df-container {\n",
              "      display:flex;\n",
              "      flex-wrap:wrap;\n",
              "      gap: 12px;\n",
              "    }\n",
              "\n",
              "    .colab-df-convert {\n",
              "      background-color: #E8F0FE;\n",
              "      border: none;\n",
              "      border-radius: 50%;\n",
              "      cursor: pointer;\n",
              "      display: none;\n",
              "      fill: #1967D2;\n",
              "      height: 32px;\n",
              "      padding: 0 0 0 0;\n",
              "      width: 32px;\n",
              "    }\n",
              "\n",
              "    .colab-df-convert:hover {\n",
              "      background-color: #E2EBFA;\n",
              "      box-shadow: 0px 1px 2px rgba(60, 64, 67, 0.3), 0px 1px 3px 1px rgba(60, 64, 67, 0.15);\n",
              "      fill: #174EA6;\n",
              "    }\n",
              "\n",
              "    [theme=dark] .colab-df-convert {\n",
              "      background-color: #3B4455;\n",
              "      fill: #D2E3FC;\n",
              "    }\n",
              "\n",
              "    [theme=dark] .colab-df-convert:hover {\n",
              "      background-color: #434B5C;\n",
              "      box-shadow: 0px 1px 3px 1px rgba(0, 0, 0, 0.15);\n",
              "      filter: drop-shadow(0px 1px 2px rgba(0, 0, 0, 0.3));\n",
              "      fill: #FFFFFF;\n",
              "    }\n",
              "  </style>\n",
              "\n",
              "      <script>\n",
              "        const buttonEl =\n",
              "          document.querySelector('#df-2318544e-8dd8-4f3e-92ff-81fb708b48d9 button.colab-df-convert');\n",
              "        buttonEl.style.display =\n",
              "          google.colab.kernel.accessAllowed ? 'block' : 'none';\n",
              "\n",
              "        async function convertToInteractive(key) {\n",
              "          const element = document.querySelector('#df-2318544e-8dd8-4f3e-92ff-81fb708b48d9');\n",
              "          const dataTable =\n",
              "            await google.colab.kernel.invokeFunction('convertToInteractive',\n",
              "                                                     [key], {});\n",
              "          if (!dataTable) return;\n",
              "\n",
              "          const docLinkHtml = 'Like what you see? Visit the ' +\n",
              "            '<a target=\"_blank\" href=https://colab.research.google.com/notebooks/data_table.ipynb>data table notebook</a>'\n",
              "            + ' to learn more about interactive tables.';\n",
              "          element.innerHTML = '';\n",
              "          dataTable['output_type'] = 'display_data';\n",
              "          await google.colab.output.renderOutput(dataTable, element);\n",
              "          const docLink = document.createElement('div');\n",
              "          docLink.innerHTML = docLinkHtml;\n",
              "          element.appendChild(docLink);\n",
              "        }\n",
              "      </script>\n",
              "    </div>\n",
              "  </div>\n",
              "  "
            ]
          },
          "metadata": {},
          "execution_count": 150
        }
      ]
    },
    {
      "cell_type": "code",
      "source": [
        "file.shape"
      ],
      "metadata": {
        "colab": {
          "base_uri": "https://localhost:8080/"
        },
        "id": "P33BPepPO6bt",
        "outputId": "e6fa6efa-0da6-4e8d-abed-ff9ebb08e17c"
      },
      "execution_count": 151,
      "outputs": [
        {
          "output_type": "execute_result",
          "data": {
            "text/plain": [
              "(8950, 17)"
            ]
          },
          "metadata": {},
          "execution_count": 151
        }
      ]
    },
    {
      "cell_type": "code",
      "source": [
        "file.dtypes"
      ],
      "metadata": {
        "colab": {
          "base_uri": "https://localhost:8080/"
        },
        "id": "84xIvyMyPvzF",
        "outputId": "63b2f650-22b0-405c-ba41-806547aa28ba"
      },
      "execution_count": 152,
      "outputs": [
        {
          "output_type": "execute_result",
          "data": {
            "text/plain": [
              "BALANCE                             float64\n",
              "BALANCE_FREQUENCY                   float64\n",
              "PURCHASES                           float64\n",
              "ONEOFF_PURCHASES                    float64\n",
              "INSTALLMENTS_PURCHASES              float64\n",
              "CASH_ADVANCE                        float64\n",
              "PURCHASES_FREQUENCY                 float64\n",
              "ONEOFF_PURCHASES_FREQUENCY          float64\n",
              "PURCHASES_INSTALLMENTS_FREQUENCY    float64\n",
              "CASH_ADVANCE_FREQUENCY              float64\n",
              "CASH_ADVANCE_TRX                      int64\n",
              "PURCHASES_TRX                         int64\n",
              "CREDIT_LIMIT                        float64\n",
              "PAYMENTS                            float64\n",
              "MINIMUM_PAYMENTS                    float64\n",
              "PRC_FULL_PAYMENT                    float64\n",
              "TENURE                                int64\n",
              "dtype: object"
            ]
          },
          "metadata": {},
          "execution_count": 152
        }
      ]
    },
    {
      "cell_type": "markdown",
      "source": [
        "What does the primary analysis of several categorical features reveal?\n",
        "\n",
        "1) Using the credit card dataset, we can understand the necessary details of a person who holds a creadit card with him, also we can able to understand how many transactions the person undergo and how much do the credit card has its limit for making further transactions.\n"
      ],
      "metadata": {
        "id": "_mljGiwH3oEJ"
      }
    },
    {
      "cell_type": "markdown",
      "source": [
        "Question 2\n"
      ],
      "metadata": {
        "id": "SKR0rLWZQZX3"
      }
    },
    {
      "cell_type": "code",
      "source": [
        "file.isna().sum().sort_values(ascending=False)"
      ],
      "metadata": {
        "colab": {
          "base_uri": "https://localhost:8080/"
        },
        "id": "wd9UT1WFQd28",
        "outputId": "f7208d97-9253-4d9b-d9e8-958f56e9ad96"
      },
      "execution_count": 153,
      "outputs": [
        {
          "output_type": "execute_result",
          "data": {
            "text/plain": [
              "MINIMUM_PAYMENTS                    313\n",
              "CREDIT_LIMIT                          1\n",
              "BALANCE                               0\n",
              "CASH_ADVANCE_FREQUENCY                0\n",
              "PRC_FULL_PAYMENT                      0\n",
              "PAYMENTS                              0\n",
              "PURCHASES_TRX                         0\n",
              "CASH_ADVANCE_TRX                      0\n",
              "PURCHASES_INSTALLMENTS_FREQUENCY      0\n",
              "BALANCE_FREQUENCY                     0\n",
              "ONEOFF_PURCHASES_FREQUENCY            0\n",
              "PURCHASES_FREQUENCY                   0\n",
              "CASH_ADVANCE                          0\n",
              "INSTALLMENTS_PURCHASES                0\n",
              "ONEOFF_PURCHASES                      0\n",
              "PURCHASES                             0\n",
              "TENURE                                0\n",
              "dtype: int64"
            ]
          },
          "metadata": {},
          "execution_count": 153
        }
      ]
    },
    {
      "cell_type": "code",
      "source": [
        "#Filling the missing values\n",
        "file.MINIMUM_PAYMENTS.mode()[0]\n",
        "file.MINIMUM_PAYMENTS.fillna(file.MINIMUM_PAYMENTS.mode()[0],inplace=True)\n",
        "file.isna().sum()"
      ],
      "metadata": {
        "colab": {
          "base_uri": "https://localhost:8080/"
        },
        "id": "D_CHBGNuQj3b",
        "outputId": "997a9356-5e98-48e0-9e80-0a1d0622dc7b"
      },
      "execution_count": 154,
      "outputs": [
        {
          "output_type": "execute_result",
          "data": {
            "text/plain": [
              "BALANCE                             0\n",
              "BALANCE_FREQUENCY                   0\n",
              "PURCHASES                           0\n",
              "ONEOFF_PURCHASES                    0\n",
              "INSTALLMENTS_PURCHASES              0\n",
              "CASH_ADVANCE                        0\n",
              "PURCHASES_FREQUENCY                 0\n",
              "ONEOFF_PURCHASES_FREQUENCY          0\n",
              "PURCHASES_INSTALLMENTS_FREQUENCY    0\n",
              "CASH_ADVANCE_FREQUENCY              0\n",
              "CASH_ADVANCE_TRX                    0\n",
              "PURCHASES_TRX                       0\n",
              "CREDIT_LIMIT                        1\n",
              "PAYMENTS                            0\n",
              "MINIMUM_PAYMENTS                    0\n",
              "PRC_FULL_PAYMENT                    0\n",
              "TENURE                              0\n",
              "dtype: int64"
            ]
          },
          "metadata": {},
          "execution_count": 154
        }
      ]
    },
    {
      "cell_type": "code",
      "source": [
        "file.CREDIT_LIMIT.mode()[0]\n",
        "file.CREDIT_LIMIT.fillna(file.CREDIT_LIMIT.mode()[0],inplace=True)\n",
        "file.isna().sum()"
      ],
      "metadata": {
        "colab": {
          "base_uri": "https://localhost:8080/"
        },
        "id": "eM6zkSxaQmDS",
        "outputId": "0094f0fd-7513-41a5-fa8b-ea8a566ef603"
      },
      "execution_count": 155,
      "outputs": [
        {
          "output_type": "execute_result",
          "data": {
            "text/plain": [
              "BALANCE                             0\n",
              "BALANCE_FREQUENCY                   0\n",
              "PURCHASES                           0\n",
              "ONEOFF_PURCHASES                    0\n",
              "INSTALLMENTS_PURCHASES              0\n",
              "CASH_ADVANCE                        0\n",
              "PURCHASES_FREQUENCY                 0\n",
              "ONEOFF_PURCHASES_FREQUENCY          0\n",
              "PURCHASES_INSTALLMENTS_FREQUENCY    0\n",
              "CASH_ADVANCE_FREQUENCY              0\n",
              "CASH_ADVANCE_TRX                    0\n",
              "PURCHASES_TRX                       0\n",
              "CREDIT_LIMIT                        0\n",
              "PAYMENTS                            0\n",
              "MINIMUM_PAYMENTS                    0\n",
              "PRC_FULL_PAYMENT                    0\n",
              "TENURE                              0\n",
              "dtype: int64"
            ]
          },
          "metadata": {},
          "execution_count": 155
        }
      ]
    },
    {
      "cell_type": "code",
      "source": [
        "file=file.drop_duplicates()"
      ],
      "metadata": {
        "id": "SfHlMYm-QuTb"
      },
      "execution_count": 156,
      "outputs": []
    },
    {
      "cell_type": "code",
      "source": [
        "column=file.columns.values"
      ],
      "metadata": {
        "id": "_xcBaj4w0ceF"
      },
      "execution_count": 157,
      "outputs": []
    },
    {
      "cell_type": "code",
      "source": [
        "mean = np.mean(file)\n",
        "std = np.std(file)\n",
        "print(\"Mean:\\n\",mean)\n",
        "print(\"Standard Deviation:\\n\",std)"
      ],
      "metadata": {
        "colab": {
          "base_uri": "https://localhost:8080/"
        },
        "id": "MYrH5rtG6QVy",
        "outputId": "bbc5cb03-4c42-4742-b667-050f69b37964"
      },
      "execution_count": 158,
      "outputs": [
        {
          "output_type": "stream",
          "name": "stdout",
          "text": [
            "Mean:\n",
            " BALANCE                             1564.474828\n",
            "BALANCE_FREQUENCY                      0.877271\n",
            "PURCHASES                           1003.204834\n",
            "ONEOFF_PURCHASES                     592.437371\n",
            "INSTALLMENTS_PURCHASES               411.067645\n",
            "CASH_ADVANCE                         978.871112\n",
            "PURCHASES_FREQUENCY                    0.490351\n",
            "ONEOFF_PURCHASES_FREQUENCY             0.202458\n",
            "PURCHASES_INSTALLMENTS_FREQUENCY       0.364437\n",
            "CASH_ADVANCE_FREQUENCY                 0.135144\n",
            "CASH_ADVANCE_TRX                       3.248827\n",
            "PURCHASES_TRX                         14.709832\n",
            "CREDIT_LIMIT                        4494.282473\n",
            "PAYMENTS                            1733.143852\n",
            "MINIMUM_PAYMENTS                     844.452407\n",
            "PRC_FULL_PAYMENT                       0.153715\n",
            "TENURE                                11.517318\n",
            "dtype: float64\n",
            "Standard Deviation:\n",
            " BALANCE                             2081.415590\n",
            "BALANCE_FREQUENCY                      0.236891\n",
            "PURCHASES                           2136.515413\n",
            "ONEOFF_PURCHASES                    1659.795184\n",
            "INSTALLMENTS_PURCHASES               904.287592\n",
            "CASH_ADVANCE                        2097.046713\n",
            "PURCHASES_FREQUENCY                    0.401348\n",
            "ONEOFF_PURCHASES_FREQUENCY             0.298319\n",
            "PURCHASES_INSTALLMENTS_FREQUENCY       0.397426\n",
            "CASH_ADVANCE_FREQUENCY                 0.200110\n",
            "CASH_ADVANCE_TRX                       6.824265\n",
            "PURCHASES_TRX                         24.856260\n",
            "CREDIT_LIMIT                        3638.443420\n",
            "PAYMENTS                            2894.902017\n",
            "MINIMUM_PAYMENTS                    2332.766947\n",
            "PRC_FULL_PAYMENT                       0.292483\n",
            "TENURE                                 1.338256\n",
            "dtype: float64\n"
          ]
        }
      ]
    },
    {
      "cell_type": "code",
      "source": [
        "file.corr()"
      ],
      "metadata": {
        "colab": {
          "base_uri": "https://localhost:8080/",
          "height": 646
        },
        "id": "ApBQfjIy6dtH",
        "outputId": "83416f3f-aff0-41ff-8c0a-9fc04a652d4c"
      },
      "execution_count": 159,
      "outputs": [
        {
          "output_type": "execute_result",
          "data": {
            "text/plain": [
              "                                   BALANCE  BALANCE_FREQUENCY  PURCHASES  \\\n",
              "BALANCE                           1.000000           0.322412   0.181261   \n",
              "BALANCE_FREQUENCY                 0.322412           1.000000   0.133674   \n",
              "PURCHASES                         0.181261           0.133674   1.000000   \n",
              "ONEOFF_PURCHASES                  0.164350           0.104323   0.916845   \n",
              "INSTALLMENTS_PURCHASES            0.126469           0.124292   0.679896   \n",
              "CASH_ADVANCE                      0.496692           0.099388  -0.051474   \n",
              "PURCHASES_FREQUENCY              -0.077944           0.229715   0.393017   \n",
              "ONEOFF_PURCHASES_FREQUENCY        0.073166           0.202415   0.498430   \n",
              "PURCHASES_INSTALLMENTS_FREQUENCY -0.063186           0.176079   0.315567   \n",
              "CASH_ADVANCE_FREQUENCY            0.449218           0.191873  -0.120143   \n",
              "CASH_ADVANCE_TRX                  0.385152           0.141555  -0.067175   \n",
              "PURCHASES_TRX                     0.154338           0.189626   0.689561   \n",
              "CREDIT_LIMIT                      0.531296           0.095931   0.356977   \n",
              "PAYMENTS                          0.322802           0.065008   0.603264   \n",
              "MINIMUM_PAYMENTS                  0.397997           0.131576   0.095840   \n",
              "PRC_FULL_PAYMENT                 -0.318959          -0.095082   0.180379   \n",
              "TENURE                            0.072692           0.119776   0.086288   \n",
              "\n",
              "                                  ONEOFF_PURCHASES  INSTALLMENTS_PURCHASES  \\\n",
              "BALANCE                                   0.164350                0.126469   \n",
              "BALANCE_FREQUENCY                         0.104323                0.124292   \n",
              "PURCHASES                                 0.916845                0.679896   \n",
              "ONEOFF_PURCHASES                          1.000000                0.330622   \n",
              "INSTALLMENTS_PURCHASES                    0.330622                1.000000   \n",
              "CASH_ADVANCE                             -0.031326               -0.064244   \n",
              "PURCHASES_FREQUENCY                       0.264937                0.442418   \n",
              "ONEOFF_PURCHASES_FREQUENCY                0.524891                0.214042   \n",
              "PURCHASES_INSTALLMENTS_FREQUENCY          0.127729                0.511351   \n",
              "CASH_ADVANCE_FREQUENCY                   -0.082628               -0.132318   \n",
              "CASH_ADVANCE_TRX                         -0.046212               -0.073999   \n",
              "PURCHASES_TRX                             0.545523                0.628108   \n",
              "CREDIT_LIMIT                              0.319735                0.256515   \n",
              "PAYMENTS                                  0.567292                0.384084   \n",
              "MINIMUM_PAYMENTS                          0.050294                0.134071   \n",
              "PRC_FULL_PAYMENT                          0.132763                0.182569   \n",
              "TENURE                                    0.064150                0.086143   \n",
              "\n",
              "                                  CASH_ADVANCE  PURCHASES_FREQUENCY  \\\n",
              "BALANCE                               0.496692            -0.077944   \n",
              "BALANCE_FREQUENCY                     0.099388             0.229715   \n",
              "PURCHASES                            -0.051474             0.393017   \n",
              "ONEOFF_PURCHASES                     -0.031326             0.264937   \n",
              "INSTALLMENTS_PURCHASES               -0.064244             0.442418   \n",
              "CASH_ADVANCE                          1.000000            -0.215507   \n",
              "PURCHASES_FREQUENCY                  -0.215507             1.000000   \n",
              "ONEOFF_PURCHASES_FREQUENCY           -0.086754             0.501343   \n",
              "PURCHASES_INSTALLMENTS_FREQUENCY     -0.177070             0.862934   \n",
              "CASH_ADVANCE_FREQUENCY                0.628522            -0.308478   \n",
              "CASH_ADVANCE_TRX                      0.656498            -0.203478   \n",
              "PURCHASES_TRX                        -0.075850             0.568430   \n",
              "CREDIT_LIMIT                          0.303997             0.119833   \n",
              "PAYMENTS                              0.453238             0.103464   \n",
              "MINIMUM_PAYMENTS                      0.140780             0.006228   \n",
              "PRC_FULL_PAYMENT                     -0.152935             0.305802   \n",
              "TENURE                               -0.068312             0.061506   \n",
              "\n",
              "                                  ONEOFF_PURCHASES_FREQUENCY  \\\n",
              "BALANCE                                             0.073166   \n",
              "BALANCE_FREQUENCY                                   0.202415   \n",
              "PURCHASES                                           0.498430   \n",
              "ONEOFF_PURCHASES                                    0.524891   \n",
              "INSTALLMENTS_PURCHASES                              0.214042   \n",
              "CASH_ADVANCE                                       -0.086754   \n",
              "PURCHASES_FREQUENCY                                 0.501343   \n",
              "ONEOFF_PURCHASES_FREQUENCY                          1.000000   \n",
              "PURCHASES_INSTALLMENTS_FREQUENCY                    0.142329   \n",
              "CASH_ADVANCE_FREQUENCY                             -0.111716   \n",
              "CASH_ADVANCE_TRX                                   -0.069088   \n",
              "PURCHASES_TRX                                       0.544869   \n",
              "CREDIT_LIMIT                                        0.295059   \n",
              "PAYMENTS                                            0.243537   \n",
              "MINIMUM_PAYMENTS                                   -0.027248   \n",
              "PRC_FULL_PAYMENT                                    0.157531   \n",
              "TENURE                                              0.082466   \n",
              "\n",
              "                                  PURCHASES_INSTALLMENTS_FREQUENCY  \\\n",
              "BALANCE                                                  -0.063186   \n",
              "BALANCE_FREQUENCY                                         0.176079   \n",
              "PURCHASES                                                 0.315567   \n",
              "ONEOFF_PURCHASES                                          0.127729   \n",
              "INSTALLMENTS_PURCHASES                                    0.511351   \n",
              "CASH_ADVANCE                                             -0.177070   \n",
              "PURCHASES_FREQUENCY                                       0.862934   \n",
              "ONEOFF_PURCHASES_FREQUENCY                                0.142329   \n",
              "PURCHASES_INSTALLMENTS_FREQUENCY                          1.000000   \n",
              "CASH_ADVANCE_FREQUENCY                                   -0.262958   \n",
              "CASH_ADVANCE_TRX                                         -0.169207   \n",
              "PURCHASES_TRX                                             0.529975   \n",
              "CREDIT_LIMIT                                              0.060794   \n",
              "PAYMENTS                                                  0.085551   \n",
              "MINIMUM_PAYMENTS                                          0.032113   \n",
              "PRC_FULL_PAYMENT                                          0.250087   \n",
              "TENURE                                                    0.073275   \n",
              "\n",
              "                                  CASH_ADVANCE_FREQUENCY  CASH_ADVANCE_TRX  \\\n",
              "BALANCE                                         0.449218          0.385152   \n",
              "BALANCE_FREQUENCY                               0.191873          0.141555   \n",
              "PURCHASES                                      -0.120143         -0.067175   \n",
              "ONEOFF_PURCHASES                               -0.082628         -0.046212   \n",
              "INSTALLMENTS_PURCHASES                         -0.132318         -0.073999   \n",
              "CASH_ADVANCE                                    0.628522          0.656498   \n",
              "PURCHASES_FREQUENCY                            -0.308478         -0.203478   \n",
              "ONEOFF_PURCHASES_FREQUENCY                     -0.111716         -0.069088   \n",
              "PURCHASES_INSTALLMENTS_FREQUENCY               -0.262958         -0.169207   \n",
              "CASH_ADVANCE_FREQUENCY                          1.000000          0.799561   \n",
              "CASH_ADVANCE_TRX                                0.799561          1.000000   \n",
              "PURCHASES_TRX                                  -0.131168         -0.066157   \n",
              "CREDIT_LIMIT                                    0.132608          0.149713   \n",
              "PAYMENTS                                        0.183192          0.255278   \n",
              "MINIMUM_PAYMENTS                                0.100678          0.111297   \n",
              "PRC_FULL_PAYMENT                               -0.249773         -0.169784   \n",
              "TENURE                                         -0.133372         -0.043421   \n",
              "\n",
              "                                  PURCHASES_TRX  CREDIT_LIMIT  PAYMENTS  \\\n",
              "BALANCE                                0.154338      0.531296  0.322802   \n",
              "BALANCE_FREQUENCY                      0.189626      0.095931  0.065008   \n",
              "PURCHASES                              0.689561      0.356977  0.603264   \n",
              "ONEOFF_PURCHASES                       0.545523      0.319735  0.567292   \n",
              "INSTALLMENTS_PURCHASES                 0.628108      0.256515  0.384084   \n",
              "CASH_ADVANCE                          -0.075850      0.303997  0.453238   \n",
              "PURCHASES_FREQUENCY                    0.568430      0.119833  0.103464   \n",
              "ONEOFF_PURCHASES_FREQUENCY             0.544869      0.295059  0.243537   \n",
              "PURCHASES_INSTALLMENTS_FREQUENCY       0.529975      0.060794  0.085551   \n",
              "CASH_ADVANCE_FREQUENCY                -0.131168      0.132608  0.183192   \n",
              "CASH_ADVANCE_TRX                      -0.066157      0.149713  0.255278   \n",
              "PURCHASES_TRX                          1.000000      0.272902  0.370832   \n",
              "CREDIT_LIMIT                           0.272902      1.000000  0.421876   \n",
              "PAYMENTS                               0.370832      0.421876  1.000000   \n",
              "MINIMUM_PAYMENTS                       0.098787      0.126800  0.129049   \n",
              "PRC_FULL_PAYMENT                       0.162066      0.055695  0.112138   \n",
              "TENURE                                 0.121874      0.139222  0.106136   \n",
              "\n",
              "                                  MINIMUM_PAYMENTS  PRC_FULL_PAYMENT    TENURE  \n",
              "BALANCE                                   0.397997         -0.318959  0.072692  \n",
              "BALANCE_FREQUENCY                         0.131576         -0.095082  0.119776  \n",
              "PURCHASES                                 0.095840          0.180379  0.086288  \n",
              "ONEOFF_PURCHASES                          0.050294          0.132763  0.064150  \n",
              "INSTALLMENTS_PURCHASES                    0.134071          0.182569  0.086143  \n",
              "CASH_ADVANCE                              0.140780         -0.152935 -0.068312  \n",
              "PURCHASES_FREQUENCY                       0.006228          0.305802  0.061506  \n",
              "ONEOFF_PURCHASES_FREQUENCY               -0.027248          0.157531  0.082466  \n",
              "PURCHASES_INSTALLMENTS_FREQUENCY          0.032113          0.250087  0.073275  \n",
              "CASH_ADVANCE_FREQUENCY                    0.100678         -0.249773 -0.133372  \n",
              "CASH_ADVANCE_TRX                          0.111297         -0.169784 -0.043421  \n",
              "PURCHASES_TRX                             0.098787          0.162066  0.121874  \n",
              "CREDIT_LIMIT                              0.126800          0.055695  0.139222  \n",
              "PAYMENTS                                  0.129049          0.112138  0.106136  \n",
              "MINIMUM_PAYMENTS                          1.000000         -0.135086  0.060070  \n",
              "PRC_FULL_PAYMENT                         -0.135086          1.000000 -0.016486  \n",
              "TENURE                                    0.060070         -0.016486  1.000000  "
            ],
            "text/html": [
              "\n",
              "  <div id=\"df-ae79e37e-22d2-471a-8464-8669037572d7\">\n",
              "    <div class=\"colab-df-container\">\n",
              "      <div>\n",
              "<style scoped>\n",
              "    .dataframe tbody tr th:only-of-type {\n",
              "        vertical-align: middle;\n",
              "    }\n",
              "\n",
              "    .dataframe tbody tr th {\n",
              "        vertical-align: top;\n",
              "    }\n",
              "\n",
              "    .dataframe thead th {\n",
              "        text-align: right;\n",
              "    }\n",
              "</style>\n",
              "<table border=\"1\" class=\"dataframe\">\n",
              "  <thead>\n",
              "    <tr style=\"text-align: right;\">\n",
              "      <th></th>\n",
              "      <th>BALANCE</th>\n",
              "      <th>BALANCE_FREQUENCY</th>\n",
              "      <th>PURCHASES</th>\n",
              "      <th>ONEOFF_PURCHASES</th>\n",
              "      <th>INSTALLMENTS_PURCHASES</th>\n",
              "      <th>CASH_ADVANCE</th>\n",
              "      <th>PURCHASES_FREQUENCY</th>\n",
              "      <th>ONEOFF_PURCHASES_FREQUENCY</th>\n",
              "      <th>PURCHASES_INSTALLMENTS_FREQUENCY</th>\n",
              "      <th>CASH_ADVANCE_FREQUENCY</th>\n",
              "      <th>CASH_ADVANCE_TRX</th>\n",
              "      <th>PURCHASES_TRX</th>\n",
              "      <th>CREDIT_LIMIT</th>\n",
              "      <th>PAYMENTS</th>\n",
              "      <th>MINIMUM_PAYMENTS</th>\n",
              "      <th>PRC_FULL_PAYMENT</th>\n",
              "      <th>TENURE</th>\n",
              "    </tr>\n",
              "  </thead>\n",
              "  <tbody>\n",
              "    <tr>\n",
              "      <th>BALANCE</th>\n",
              "      <td>1.000000</td>\n",
              "      <td>0.322412</td>\n",
              "      <td>0.181261</td>\n",
              "      <td>0.164350</td>\n",
              "      <td>0.126469</td>\n",
              "      <td>0.496692</td>\n",
              "      <td>-0.077944</td>\n",
              "      <td>0.073166</td>\n",
              "      <td>-0.063186</td>\n",
              "      <td>0.449218</td>\n",
              "      <td>0.385152</td>\n",
              "      <td>0.154338</td>\n",
              "      <td>0.531296</td>\n",
              "      <td>0.322802</td>\n",
              "      <td>0.397997</td>\n",
              "      <td>-0.318959</td>\n",
              "      <td>0.072692</td>\n",
              "    </tr>\n",
              "    <tr>\n",
              "      <th>BALANCE_FREQUENCY</th>\n",
              "      <td>0.322412</td>\n",
              "      <td>1.000000</td>\n",
              "      <td>0.133674</td>\n",
              "      <td>0.104323</td>\n",
              "      <td>0.124292</td>\n",
              "      <td>0.099388</td>\n",
              "      <td>0.229715</td>\n",
              "      <td>0.202415</td>\n",
              "      <td>0.176079</td>\n",
              "      <td>0.191873</td>\n",
              "      <td>0.141555</td>\n",
              "      <td>0.189626</td>\n",
              "      <td>0.095931</td>\n",
              "      <td>0.065008</td>\n",
              "      <td>0.131576</td>\n",
              "      <td>-0.095082</td>\n",
              "      <td>0.119776</td>\n",
              "    </tr>\n",
              "    <tr>\n",
              "      <th>PURCHASES</th>\n",
              "      <td>0.181261</td>\n",
              "      <td>0.133674</td>\n",
              "      <td>1.000000</td>\n",
              "      <td>0.916845</td>\n",
              "      <td>0.679896</td>\n",
              "      <td>-0.051474</td>\n",
              "      <td>0.393017</td>\n",
              "      <td>0.498430</td>\n",
              "      <td>0.315567</td>\n",
              "      <td>-0.120143</td>\n",
              "      <td>-0.067175</td>\n",
              "      <td>0.689561</td>\n",
              "      <td>0.356977</td>\n",
              "      <td>0.603264</td>\n",
              "      <td>0.095840</td>\n",
              "      <td>0.180379</td>\n",
              "      <td>0.086288</td>\n",
              "    </tr>\n",
              "    <tr>\n",
              "      <th>ONEOFF_PURCHASES</th>\n",
              "      <td>0.164350</td>\n",
              "      <td>0.104323</td>\n",
              "      <td>0.916845</td>\n",
              "      <td>1.000000</td>\n",
              "      <td>0.330622</td>\n",
              "      <td>-0.031326</td>\n",
              "      <td>0.264937</td>\n",
              "      <td>0.524891</td>\n",
              "      <td>0.127729</td>\n",
              "      <td>-0.082628</td>\n",
              "      <td>-0.046212</td>\n",
              "      <td>0.545523</td>\n",
              "      <td>0.319735</td>\n",
              "      <td>0.567292</td>\n",
              "      <td>0.050294</td>\n",
              "      <td>0.132763</td>\n",
              "      <td>0.064150</td>\n",
              "    </tr>\n",
              "    <tr>\n",
              "      <th>INSTALLMENTS_PURCHASES</th>\n",
              "      <td>0.126469</td>\n",
              "      <td>0.124292</td>\n",
              "      <td>0.679896</td>\n",
              "      <td>0.330622</td>\n",
              "      <td>1.000000</td>\n",
              "      <td>-0.064244</td>\n",
              "      <td>0.442418</td>\n",
              "      <td>0.214042</td>\n",
              "      <td>0.511351</td>\n",
              "      <td>-0.132318</td>\n",
              "      <td>-0.073999</td>\n",
              "      <td>0.628108</td>\n",
              "      <td>0.256515</td>\n",
              "      <td>0.384084</td>\n",
              "      <td>0.134071</td>\n",
              "      <td>0.182569</td>\n",
              "      <td>0.086143</td>\n",
              "    </tr>\n",
              "    <tr>\n",
              "      <th>CASH_ADVANCE</th>\n",
              "      <td>0.496692</td>\n",
              "      <td>0.099388</td>\n",
              "      <td>-0.051474</td>\n",
              "      <td>-0.031326</td>\n",
              "      <td>-0.064244</td>\n",
              "      <td>1.000000</td>\n",
              "      <td>-0.215507</td>\n",
              "      <td>-0.086754</td>\n",
              "      <td>-0.177070</td>\n",
              "      <td>0.628522</td>\n",
              "      <td>0.656498</td>\n",
              "      <td>-0.075850</td>\n",
              "      <td>0.303997</td>\n",
              "      <td>0.453238</td>\n",
              "      <td>0.140780</td>\n",
              "      <td>-0.152935</td>\n",
              "      <td>-0.068312</td>\n",
              "    </tr>\n",
              "    <tr>\n",
              "      <th>PURCHASES_FREQUENCY</th>\n",
              "      <td>-0.077944</td>\n",
              "      <td>0.229715</td>\n",
              "      <td>0.393017</td>\n",
              "      <td>0.264937</td>\n",
              "      <td>0.442418</td>\n",
              "      <td>-0.215507</td>\n",
              "      <td>1.000000</td>\n",
              "      <td>0.501343</td>\n",
              "      <td>0.862934</td>\n",
              "      <td>-0.308478</td>\n",
              "      <td>-0.203478</td>\n",
              "      <td>0.568430</td>\n",
              "      <td>0.119833</td>\n",
              "      <td>0.103464</td>\n",
              "      <td>0.006228</td>\n",
              "      <td>0.305802</td>\n",
              "      <td>0.061506</td>\n",
              "    </tr>\n",
              "    <tr>\n",
              "      <th>ONEOFF_PURCHASES_FREQUENCY</th>\n",
              "      <td>0.073166</td>\n",
              "      <td>0.202415</td>\n",
              "      <td>0.498430</td>\n",
              "      <td>0.524891</td>\n",
              "      <td>0.214042</td>\n",
              "      <td>-0.086754</td>\n",
              "      <td>0.501343</td>\n",
              "      <td>1.000000</td>\n",
              "      <td>0.142329</td>\n",
              "      <td>-0.111716</td>\n",
              "      <td>-0.069088</td>\n",
              "      <td>0.544869</td>\n",
              "      <td>0.295059</td>\n",
              "      <td>0.243537</td>\n",
              "      <td>-0.027248</td>\n",
              "      <td>0.157531</td>\n",
              "      <td>0.082466</td>\n",
              "    </tr>\n",
              "    <tr>\n",
              "      <th>PURCHASES_INSTALLMENTS_FREQUENCY</th>\n",
              "      <td>-0.063186</td>\n",
              "      <td>0.176079</td>\n",
              "      <td>0.315567</td>\n",
              "      <td>0.127729</td>\n",
              "      <td>0.511351</td>\n",
              "      <td>-0.177070</td>\n",
              "      <td>0.862934</td>\n",
              "      <td>0.142329</td>\n",
              "      <td>1.000000</td>\n",
              "      <td>-0.262958</td>\n",
              "      <td>-0.169207</td>\n",
              "      <td>0.529975</td>\n",
              "      <td>0.060794</td>\n",
              "      <td>0.085551</td>\n",
              "      <td>0.032113</td>\n",
              "      <td>0.250087</td>\n",
              "      <td>0.073275</td>\n",
              "    </tr>\n",
              "    <tr>\n",
              "      <th>CASH_ADVANCE_FREQUENCY</th>\n",
              "      <td>0.449218</td>\n",
              "      <td>0.191873</td>\n",
              "      <td>-0.120143</td>\n",
              "      <td>-0.082628</td>\n",
              "      <td>-0.132318</td>\n",
              "      <td>0.628522</td>\n",
              "      <td>-0.308478</td>\n",
              "      <td>-0.111716</td>\n",
              "      <td>-0.262958</td>\n",
              "      <td>1.000000</td>\n",
              "      <td>0.799561</td>\n",
              "      <td>-0.131168</td>\n",
              "      <td>0.132608</td>\n",
              "      <td>0.183192</td>\n",
              "      <td>0.100678</td>\n",
              "      <td>-0.249773</td>\n",
              "      <td>-0.133372</td>\n",
              "    </tr>\n",
              "    <tr>\n",
              "      <th>CASH_ADVANCE_TRX</th>\n",
              "      <td>0.385152</td>\n",
              "      <td>0.141555</td>\n",
              "      <td>-0.067175</td>\n",
              "      <td>-0.046212</td>\n",
              "      <td>-0.073999</td>\n",
              "      <td>0.656498</td>\n",
              "      <td>-0.203478</td>\n",
              "      <td>-0.069088</td>\n",
              "      <td>-0.169207</td>\n",
              "      <td>0.799561</td>\n",
              "      <td>1.000000</td>\n",
              "      <td>-0.066157</td>\n",
              "      <td>0.149713</td>\n",
              "      <td>0.255278</td>\n",
              "      <td>0.111297</td>\n",
              "      <td>-0.169784</td>\n",
              "      <td>-0.043421</td>\n",
              "    </tr>\n",
              "    <tr>\n",
              "      <th>PURCHASES_TRX</th>\n",
              "      <td>0.154338</td>\n",
              "      <td>0.189626</td>\n",
              "      <td>0.689561</td>\n",
              "      <td>0.545523</td>\n",
              "      <td>0.628108</td>\n",
              "      <td>-0.075850</td>\n",
              "      <td>0.568430</td>\n",
              "      <td>0.544869</td>\n",
              "      <td>0.529975</td>\n",
              "      <td>-0.131168</td>\n",
              "      <td>-0.066157</td>\n",
              "      <td>1.000000</td>\n",
              "      <td>0.272902</td>\n",
              "      <td>0.370832</td>\n",
              "      <td>0.098787</td>\n",
              "      <td>0.162066</td>\n",
              "      <td>0.121874</td>\n",
              "    </tr>\n",
              "    <tr>\n",
              "      <th>CREDIT_LIMIT</th>\n",
              "      <td>0.531296</td>\n",
              "      <td>0.095931</td>\n",
              "      <td>0.356977</td>\n",
              "      <td>0.319735</td>\n",
              "      <td>0.256515</td>\n",
              "      <td>0.303997</td>\n",
              "      <td>0.119833</td>\n",
              "      <td>0.295059</td>\n",
              "      <td>0.060794</td>\n",
              "      <td>0.132608</td>\n",
              "      <td>0.149713</td>\n",
              "      <td>0.272902</td>\n",
              "      <td>1.000000</td>\n",
              "      <td>0.421876</td>\n",
              "      <td>0.126800</td>\n",
              "      <td>0.055695</td>\n",
              "      <td>0.139222</td>\n",
              "    </tr>\n",
              "    <tr>\n",
              "      <th>PAYMENTS</th>\n",
              "      <td>0.322802</td>\n",
              "      <td>0.065008</td>\n",
              "      <td>0.603264</td>\n",
              "      <td>0.567292</td>\n",
              "      <td>0.384084</td>\n",
              "      <td>0.453238</td>\n",
              "      <td>0.103464</td>\n",
              "      <td>0.243537</td>\n",
              "      <td>0.085551</td>\n",
              "      <td>0.183192</td>\n",
              "      <td>0.255278</td>\n",
              "      <td>0.370832</td>\n",
              "      <td>0.421876</td>\n",
              "      <td>1.000000</td>\n",
              "      <td>0.129049</td>\n",
              "      <td>0.112138</td>\n",
              "      <td>0.106136</td>\n",
              "    </tr>\n",
              "    <tr>\n",
              "      <th>MINIMUM_PAYMENTS</th>\n",
              "      <td>0.397997</td>\n",
              "      <td>0.131576</td>\n",
              "      <td>0.095840</td>\n",
              "      <td>0.050294</td>\n",
              "      <td>0.134071</td>\n",
              "      <td>0.140780</td>\n",
              "      <td>0.006228</td>\n",
              "      <td>-0.027248</td>\n",
              "      <td>0.032113</td>\n",
              "      <td>0.100678</td>\n",
              "      <td>0.111297</td>\n",
              "      <td>0.098787</td>\n",
              "      <td>0.126800</td>\n",
              "      <td>0.129049</td>\n",
              "      <td>1.000000</td>\n",
              "      <td>-0.135086</td>\n",
              "      <td>0.060070</td>\n",
              "    </tr>\n",
              "    <tr>\n",
              "      <th>PRC_FULL_PAYMENT</th>\n",
              "      <td>-0.318959</td>\n",
              "      <td>-0.095082</td>\n",
              "      <td>0.180379</td>\n",
              "      <td>0.132763</td>\n",
              "      <td>0.182569</td>\n",
              "      <td>-0.152935</td>\n",
              "      <td>0.305802</td>\n",
              "      <td>0.157531</td>\n",
              "      <td>0.250087</td>\n",
              "      <td>-0.249773</td>\n",
              "      <td>-0.169784</td>\n",
              "      <td>0.162066</td>\n",
              "      <td>0.055695</td>\n",
              "      <td>0.112138</td>\n",
              "      <td>-0.135086</td>\n",
              "      <td>1.000000</td>\n",
              "      <td>-0.016486</td>\n",
              "    </tr>\n",
              "    <tr>\n",
              "      <th>TENURE</th>\n",
              "      <td>0.072692</td>\n",
              "      <td>0.119776</td>\n",
              "      <td>0.086288</td>\n",
              "      <td>0.064150</td>\n",
              "      <td>0.086143</td>\n",
              "      <td>-0.068312</td>\n",
              "      <td>0.061506</td>\n",
              "      <td>0.082466</td>\n",
              "      <td>0.073275</td>\n",
              "      <td>-0.133372</td>\n",
              "      <td>-0.043421</td>\n",
              "      <td>0.121874</td>\n",
              "      <td>0.139222</td>\n",
              "      <td>0.106136</td>\n",
              "      <td>0.060070</td>\n",
              "      <td>-0.016486</td>\n",
              "      <td>1.000000</td>\n",
              "    </tr>\n",
              "  </tbody>\n",
              "</table>\n",
              "</div>\n",
              "      <button class=\"colab-df-convert\" onclick=\"convertToInteractive('df-ae79e37e-22d2-471a-8464-8669037572d7')\"\n",
              "              title=\"Convert this dataframe to an interactive table.\"\n",
              "              style=\"display:none;\">\n",
              "        \n",
              "  <svg xmlns=\"http://www.w3.org/2000/svg\" height=\"24px\"viewBox=\"0 0 24 24\"\n",
              "       width=\"24px\">\n",
              "    <path d=\"M0 0h24v24H0V0z\" fill=\"none\"/>\n",
              "    <path d=\"M18.56 5.44l.94 2.06.94-2.06 2.06-.94-2.06-.94-.94-2.06-.94 2.06-2.06.94zm-11 1L8.5 8.5l.94-2.06 2.06-.94-2.06-.94L8.5 2.5l-.94 2.06-2.06.94zm10 10l.94 2.06.94-2.06 2.06-.94-2.06-.94-.94-2.06-.94 2.06-2.06.94z\"/><path d=\"M17.41 7.96l-1.37-1.37c-.4-.4-.92-.59-1.43-.59-.52 0-1.04.2-1.43.59L10.3 9.45l-7.72 7.72c-.78.78-.78 2.05 0 2.83L4 21.41c.39.39.9.59 1.41.59.51 0 1.02-.2 1.41-.59l7.78-7.78 2.81-2.81c.8-.78.8-2.07 0-2.86zM5.41 20L4 18.59l7.72-7.72 1.47 1.35L5.41 20z\"/>\n",
              "  </svg>\n",
              "      </button>\n",
              "      \n",
              "  <style>\n",
              "    .colab-df-container {\n",
              "      display:flex;\n",
              "      flex-wrap:wrap;\n",
              "      gap: 12px;\n",
              "    }\n",
              "\n",
              "    .colab-df-convert {\n",
              "      background-color: #E8F0FE;\n",
              "      border: none;\n",
              "      border-radius: 50%;\n",
              "      cursor: pointer;\n",
              "      display: none;\n",
              "      fill: #1967D2;\n",
              "      height: 32px;\n",
              "      padding: 0 0 0 0;\n",
              "      width: 32px;\n",
              "    }\n",
              "\n",
              "    .colab-df-convert:hover {\n",
              "      background-color: #E2EBFA;\n",
              "      box-shadow: 0px 1px 2px rgba(60, 64, 67, 0.3), 0px 1px 3px 1px rgba(60, 64, 67, 0.15);\n",
              "      fill: #174EA6;\n",
              "    }\n",
              "\n",
              "    [theme=dark] .colab-df-convert {\n",
              "      background-color: #3B4455;\n",
              "      fill: #D2E3FC;\n",
              "    }\n",
              "\n",
              "    [theme=dark] .colab-df-convert:hover {\n",
              "      background-color: #434B5C;\n",
              "      box-shadow: 0px 1px 3px 1px rgba(0, 0, 0, 0.15);\n",
              "      filter: drop-shadow(0px 1px 2px rgba(0, 0, 0, 0.3));\n",
              "      fill: #FFFFFF;\n",
              "    }\n",
              "  </style>\n",
              "\n",
              "      <script>\n",
              "        const buttonEl =\n",
              "          document.querySelector('#df-ae79e37e-22d2-471a-8464-8669037572d7 button.colab-df-convert');\n",
              "        buttonEl.style.display =\n",
              "          google.colab.kernel.accessAllowed ? 'block' : 'none';\n",
              "\n",
              "        async function convertToInteractive(key) {\n",
              "          const element = document.querySelector('#df-ae79e37e-22d2-471a-8464-8669037572d7');\n",
              "          const dataTable =\n",
              "            await google.colab.kernel.invokeFunction('convertToInteractive',\n",
              "                                                     [key], {});\n",
              "          if (!dataTable) return;\n",
              "\n",
              "          const docLinkHtml = 'Like what you see? Visit the ' +\n",
              "            '<a target=\"_blank\" href=https://colab.research.google.com/notebooks/data_table.ipynb>data table notebook</a>'\n",
              "            + ' to learn more about interactive tables.';\n",
              "          element.innerHTML = '';\n",
              "          dataTable['output_type'] = 'display_data';\n",
              "          await google.colab.output.renderOutput(dataTable, element);\n",
              "          const docLink = document.createElement('div');\n",
              "          docLink.innerHTML = docLinkHtml;\n",
              "          element.appendChild(docLink);\n",
              "        }\n",
              "      </script>\n",
              "    </div>\n",
              "  </div>\n",
              "  "
            ]
          },
          "metadata": {},
          "execution_count": 159
        }
      ]
    },
    {
      "cell_type": "code",
      "source": [
        "x=file.drop(['TENURE'],axis=1)\n",
        "y=file['TENURE']"
      ],
      "metadata": {
        "id": "vwbWO-jh6ggi"
      },
      "execution_count": 160,
      "outputs": []
    },
    {
      "cell_type": "code",
      "source": [
        "from sklearn.model_selection import train_test_split\n",
        "x_train,x_test,y_train,y_test=train_test_split(x,y,train_size=0.60,test_size=0.40,random_state=47)\n",
        "\n",
        "x_train.shape,x_test.shape,y_train.shape,y_test.shape\n"
      ],
      "metadata": {
        "colab": {
          "base_uri": "https://localhost:8080/"
        },
        "id": "FYILbD3__HA8",
        "outputId": "b708a0ae-1b2e-40fa-bc79-84136515735c"
      },
      "execution_count": 161,
      "outputs": [
        {
          "output_type": "execute_result",
          "data": {
            "text/plain": [
              "((5370, 16), (3580, 16), (5370,), (3580,))"
            ]
          },
          "metadata": {},
          "execution_count": 161
        }
      ]
    },
    {
      "cell_type": "code",
      "source": [
        "from sklearn.linear_model import LogisticRegression\n",
        "\n",
        "model=LogisticRegression()\n"
      ],
      "metadata": {
        "id": "WcRhK4CkP-Fs"
      },
      "execution_count": 162,
      "outputs": []
    },
    {
      "cell_type": "code",
      "source": [
        "model.fit(x_train,y_train)"
      ],
      "metadata": {
        "colab": {
          "base_uri": "https://localhost:8080/"
        },
        "id": "ZrofB0SR9KIU",
        "outputId": "80e6b418-10cd-4fde-a3c0-d1005f94760d"
      },
      "execution_count": 163,
      "outputs": [
        {
          "output_type": "stream",
          "name": "stderr",
          "text": [
            "/usr/local/lib/python3.7/dist-packages/sklearn/linear_model/_logistic.py:818: ConvergenceWarning: lbfgs failed to converge (status=1):\n",
            "STOP: TOTAL NO. of ITERATIONS REACHED LIMIT.\n",
            "\n",
            "Increase the number of iterations (max_iter) or scale the data as shown in:\n",
            "    https://scikit-learn.org/stable/modules/preprocessing.html\n",
            "Please also refer to the documentation for alternative solver options:\n",
            "    https://scikit-learn.org/stable/modules/linear_model.html#logistic-regression\n",
            "  extra_warning_msg=_LOGISTIC_SOLVER_CONVERGENCE_MSG,\n"
          ]
        },
        {
          "output_type": "execute_result",
          "data": {
            "text/plain": [
              "LogisticRegression()"
            ]
          },
          "metadata": {},
          "execution_count": 163
        }
      ]
    },
    {
      "cell_type": "code",
      "source": [
        "predicted_y=model.predict(x_test)\n",
        "predicted_y"
      ],
      "metadata": {
        "colab": {
          "base_uri": "https://localhost:8080/"
        },
        "id": "KaSjOrPP_Fuk",
        "outputId": "d2e7bb94-15ab-4d5c-bef0-f66e2a8a4ee2"
      },
      "execution_count": 164,
      "outputs": [
        {
          "output_type": "execute_result",
          "data": {
            "text/plain": [
              "array([12, 12, 12, ..., 12, 12, 12])"
            ]
          },
          "metadata": {},
          "execution_count": 164
        }
      ]
    },
    {
      "cell_type": "code",
      "source": [
        "from sklearn.metrics import accuracy_score,confusion_matrix,classification_report\n",
        "accuracy_score(y_test,predicted_y)"
      ],
      "metadata": {
        "colab": {
          "base_uri": "https://localhost:8080/"
        },
        "id": "Fvr9ybKu_T3R",
        "outputId": "864965e8-e964-4666-f2e4-5fc3d68b7204"
      },
      "execution_count": 165,
      "outputs": [
        {
          "output_type": "execute_result",
          "data": {
            "text/plain": [
              "0.8466480446927375"
            ]
          },
          "metadata": {},
          "execution_count": 165
        }
      ]
    },
    {
      "cell_type": "code",
      "source": [
        "confusion_matrix(y_test,predicted_y)"
      ],
      "metadata": {
        "colab": {
          "base_uri": "https://localhost:8080/"
        },
        "id": "g8gTaQffSrK3",
        "outputId": "eee1f872-5a5d-490a-d0d5-b8da76a39586"
      },
      "execution_count": 166,
      "outputs": [
        {
          "output_type": "execute_result",
          "data": {
            "text/plain": [
              "array([[   4,    1,    2,    0,    0,    0,   62],\n",
              "       [   2,    1,    1,    0,    0,    0,   63],\n",
              "       [   1,    2,    0,    0,    0,    0,   85],\n",
              "       [   0,    0,    0,    0,    0,    0,   80],\n",
              "       [   1,    0,    0,    0,    0,    0,   82],\n",
              "       [   1,    1,    0,    0,    0,    0,  152],\n",
              "       [   7,    1,    4,    0,    1,    0, 3026]])"
            ]
          },
          "metadata": {},
          "execution_count": 166
        }
      ]
    },
    {
      "cell_type": "code",
      "source": [
        "z=classification_report(y_test,predicted_y)"
      ],
      "metadata": {
        "colab": {
          "base_uri": "https://localhost:8080/"
        },
        "id": "cOngwz6WStft",
        "outputId": "91922f8e-48b7-4c23-aab5-a3d919502ac7"
      },
      "execution_count": 167,
      "outputs": [
        {
          "output_type": "stream",
          "name": "stderr",
          "text": [
            "/usr/local/lib/python3.7/dist-packages/sklearn/metrics/_classification.py:1318: UndefinedMetricWarning: Precision and F-score are ill-defined and being set to 0.0 in labels with no predicted samples. Use `zero_division` parameter to control this behavior.\n",
            "  _warn_prf(average, modifier, msg_start, len(result))\n",
            "/usr/local/lib/python3.7/dist-packages/sklearn/metrics/_classification.py:1318: UndefinedMetricWarning: Precision and F-score are ill-defined and being set to 0.0 in labels with no predicted samples. Use `zero_division` parameter to control this behavior.\n",
            "  _warn_prf(average, modifier, msg_start, len(result))\n",
            "/usr/local/lib/python3.7/dist-packages/sklearn/metrics/_classification.py:1318: UndefinedMetricWarning: Precision and F-score are ill-defined and being set to 0.0 in labels with no predicted samples. Use `zero_division` parameter to control this behavior.\n",
            "  _warn_prf(average, modifier, msg_start, len(result))\n"
          ]
        }
      ]
    },
    {
      "cell_type": "code",
      "source": [
        "z"
      ],
      "metadata": {
        "colab": {
          "base_uri": "https://localhost:8080/",
          "height": 88
        },
        "id": "TVQiOIZzSxPQ",
        "outputId": "ad4c12aa-b045-4b10-e9e9-b5f93095a6c3"
      },
      "execution_count": 168,
      "outputs": [
        {
          "output_type": "execute_result",
          "data": {
            "text/plain": [
              "'              precision    recall  f1-score   support\\n\\n           6       0.25      0.06      0.09        69\\n           7       0.17      0.01      0.03        67\\n           8       0.00      0.00      0.00        88\\n           9       0.00      0.00      0.00        80\\n          10       0.00      0.00      0.00        83\\n          11       0.00      0.00      0.00       154\\n          12       0.85      1.00      0.92      3039\\n\\n    accuracy                           0.85      3580\\n   macro avg       0.18      0.15      0.15      3580\\nweighted avg       0.73      0.85      0.78      3580\\n'"
            ],
            "application/vnd.google.colaboratory.intrinsic+json": {
              "type": "string"
            }
          },
          "metadata": {},
          "execution_count": 168
        }
      ]
    },
    {
      "cell_type": "code",
      "source": [
        "print(z)"
      ],
      "metadata": {
        "colab": {
          "base_uri": "https://localhost:8080/"
        },
        "id": "xb_McpDOSx3y",
        "outputId": "0db7c2d7-ad8b-4533-ea4b-8008417e8cd2"
      },
      "execution_count": 169,
      "outputs": [
        {
          "output_type": "stream",
          "name": "stdout",
          "text": [
            "              precision    recall  f1-score   support\n",
            "\n",
            "           6       0.25      0.06      0.09        69\n",
            "           7       0.17      0.01      0.03        67\n",
            "           8       0.00      0.00      0.00        88\n",
            "           9       0.00      0.00      0.00        80\n",
            "          10       0.00      0.00      0.00        83\n",
            "          11       0.00      0.00      0.00       154\n",
            "          12       0.85      1.00      0.92      3039\n",
            "\n",
            "    accuracy                           0.85      3580\n",
            "   macro avg       0.18      0.15      0.15      3580\n",
            "weighted avg       0.73      0.85      0.78      3580\n",
            "\n"
          ]
        }
      ]
    },
    {
      "cell_type": "code",
      "source": [
        "from sklearn.decomposition import PCA\n",
        "from sklearn.metrics import accuracy_score\n",
        "pca=PCA(n_components=0.95)"
      ],
      "metadata": {
        "id": "PF8tIi2bS124"
      },
      "execution_count": 170,
      "outputs": []
    },
    {
      "cell_type": "code",
      "source": [
        "pca.fit(x_train)"
      ],
      "metadata": {
        "colab": {
          "base_uri": "https://localhost:8080/"
        },
        "id": "GRVsrJ78S5uc",
        "outputId": "ef462582-57f6-4d4c-d1ff-ebd66827e3a7"
      },
      "execution_count": 171,
      "outputs": [
        {
          "output_type": "execute_result",
          "data": {
            "text/plain": [
              "PCA(n_components=0.95)"
            ]
          },
          "metadata": {},
          "execution_count": 171
        }
      ]
    },
    {
      "cell_type": "code",
      "source": [
        "xtrain_transformed=pca.transform(x_train)\n",
        "print(xtrain_transformed.shape)"
      ],
      "metadata": {
        "colab": {
          "base_uri": "https://localhost:8080/"
        },
        "id": "8WBA_uqeS8tu",
        "outputId": "dad13f70-2314-47e8-a382-5d7cb28ea16c"
      },
      "execution_count": 172,
      "outputs": [
        {
          "output_type": "stream",
          "name": "stdout",
          "text": [
            "(5370, 5)\n"
          ]
        }
      ]
    },
    {
      "cell_type": "code",
      "source": [
        "xtest_transformed=pca.transform(x_test)\n",
        "print(xtest_transformed.shape)"
      ],
      "metadata": {
        "colab": {
          "base_uri": "https://localhost:8080/"
        },
        "id": "pcH6iPJNTB2s",
        "outputId": "a17aeb30-8c81-4fcb-8ea5-2c4c0c8c0452"
      },
      "execution_count": 173,
      "outputs": [
        {
          "output_type": "stream",
          "name": "stdout",
          "text": [
            "(3580, 5)\n"
          ]
        }
      ]
    },
    {
      "cell_type": "code",
      "source": [
        "new_model=LogisticRegression(penalty='l1',solver='liblinear')"
      ],
      "metadata": {
        "id": "N4Jwfk1mTGfL"
      },
      "execution_count": 174,
      "outputs": []
    },
    {
      "cell_type": "code",
      "source": [
        "new_model.fit(xtrain_transformed,y_train)"
      ],
      "metadata": {
        "colab": {
          "base_uri": "https://localhost:8080/"
        },
        "id": "Qoa7QKSXTIpR",
        "outputId": "1ccea58c-07e3-4e13-e7c8-793cf0cb3031"
      },
      "execution_count": 175,
      "outputs": [
        {
          "output_type": "execute_result",
          "data": {
            "text/plain": [
              "LogisticRegression(penalty='l1', solver='liblinear')"
            ]
          },
          "metadata": {},
          "execution_count": 175
        }
      ]
    },
    {
      "cell_type": "code",
      "source": [
        "new_predicition=new_model.predict(xtest_transformed)"
      ],
      "metadata": {
        "id": "LLDyHqEBTLAq"
      },
      "execution_count": 176,
      "outputs": []
    },
    {
      "cell_type": "code",
      "source": [
        "y_test,predicted_y,new_predicition"
      ],
      "metadata": {
        "colab": {
          "base_uri": "https://localhost:8080/"
        },
        "id": "kjUedwROTNtI",
        "outputId": "091853a1-e43e-471e-cabf-44b2402ad8a1"
      },
      "execution_count": 177,
      "outputs": [
        {
          "output_type": "execute_result",
          "data": {
            "text/plain": [
              "(6492    12\n",
              " 4006    12\n",
              " 1439    12\n",
              " 5898     6\n",
              " 1031    12\n",
              "         ..\n",
              " 4920    12\n",
              " 571     12\n",
              " 4637    12\n",
              " 8506     9\n",
              " 2805    12\n",
              " Name: TENURE, Length: 3580, dtype: int64,\n",
              " array([12, 12, 12, ..., 12, 12, 12]),\n",
              " array([12, 12, 12, ..., 12, 12, 12]))"
            ]
          },
          "metadata": {},
          "execution_count": 177
        }
      ]
    },
    {
      "cell_type": "code",
      "source": [
        "new_acc=accuracy_score(new_predicition,y_test)\n",
        "new_acc"
      ],
      "metadata": {
        "colab": {
          "base_uri": "https://localhost:8080/"
        },
        "id": "qxBN2uQQTQTA",
        "outputId": "214dc302-dfb3-4054-ff45-8487c89d15ea"
      },
      "execution_count": 178,
      "outputs": [
        {
          "output_type": "execute_result",
          "data": {
            "text/plain": [
              "0.8488826815642458"
            ]
          },
          "metadata": {},
          "execution_count": 178
        }
      ]
    },
    {
      "cell_type": "markdown",
      "source": [
        "Question 4"
      ],
      "metadata": {
        "id": "BiOFlXxKTvqI"
      }
    },
    {
      "cell_type": "code",
      "source": [
        "import sklearn\n",
        "from sklearn.cluster import KMeans"
      ],
      "metadata": {
        "id": "yJPkgbk9TTEh"
      },
      "execution_count": 179,
      "outputs": []
    },
    {
      "cell_type": "code",
      "source": [
        "wcss=[]  #With in cluster sum of squares\n",
        "\n",
        "for i in range(1,7):\n",
        "  kmeans=KMeans(n_clusters=i, \n",
        "                init='k-means++', \n",
        "                n_init=10, \n",
        "                max_iter=300, \n",
        "                tol=0.0001,  \n",
        "                verbose=0, \n",
        "                random_state=None, \n",
        "                copy_x=True,  \n",
        "                algorithm='auto')\n",
        "  \n",
        "  kmeans.fit(file)\n",
        "\n",
        "  wcss.append(kmeans.inertia_)  #Do for iterations 1 to 7 clusters, find out the min wcsss and add them"
      ],
      "metadata": {
        "id": "YWa4MY4ET1oM"
      },
      "execution_count": 180,
      "outputs": []
    },
    {
      "cell_type": "code",
      "source": [
        "import matplotlib.pyplot as plt\n",
        "plt.plot(range(1,7),wcss)  "
      ],
      "metadata": {
        "colab": {
          "base_uri": "https://localhost:8080/",
          "height": 375
        },
        "id": "Nq6BMp38T4qA",
        "outputId": "d5fe1f2e-48f6-4309-fef1-82a1308d897b"
      },
      "execution_count": 181,
      "outputs": [
        {
          "output_type": "execute_result",
          "data": {
            "text/plain": [
              "[<matplotlib.lines.Line2D at 0x7f8c17ffd210>]"
            ]
          },
          "metadata": {},
          "execution_count": 181
        },
        {
          "output_type": "display_data",
          "data": {
            "text/plain": [
              "<Figure size 576x396 with 1 Axes>"
            ],
            "image/png": "[encoded data removed]"
          },
          "metadata": {}
        }
      ]
    },
    {
      "cell_type": "markdown",
      "source": [
        "Question 5"
      ],
      "metadata": {
        "id": "LogxHdigUAhe"
      }
    },
    {
      "cell_type": "code",
      "source": [
        "import sklearn.metrics as metrics\n",
        "import matplotlib.pyplot as plt\n",
        "from yellowbrick.cluster import SilhouetteVisualizer"
      ],
      "metadata": {
        "id": "1CgTAG1XWA_q"
      },
      "execution_count": 182,
      "outputs": []
    },
    {
      "cell_type": "code",
      "source": [
        "for i in range(3,10):\n",
        "    kmeans=KMeans(n_clusters=i,init=\"k-means++\",random_state=200)\n",
        "    kmeans.fit(file)\n",
        "    labels=kmeans.labels_\n",
        "    print (\"Silhouette score for k(clusters) = \"+str(i)+\"is\"+str(metrics.silhouette_score(file,\n",
        "                                         labels,\n",
        "                                         metric=\"euclidean\",\n",
        "                                         sample_size=1000,\n",
        "                                         random_state=200)))"
      ],
      "metadata": {
        "colab": {
          "base_uri": "https://localhost:8080/"
        },
        "id": "VPoxspG9Wktb",
        "outputId": "040ac9b7-fd94-4170-893f-d6546245ea7f"
      },
      "execution_count": 183,
      "outputs": [
        {
          "output_type": "stream",
          "name": "stdout",
          "text": [
            "Silhouette score for k(clusters) = 3is0.45812671876122785\n",
            "Silhouette score for k(clusters) = 4is0.38213617623234636\n",
            "Silhouette score for k(clusters) = 5is0.35989213869773073\n",
            "Silhouette score for k(clusters) = 6is0.3786654083397706\n",
            "Silhouette score for k(clusters) = 7is0.35478473187393456\n",
            "Silhouette score for k(clusters) = 8is0.3616414301738822\n",
            "Silhouette score for k(clusters) = 9is0.3415849355128949\n"
          ]
        }
      ]
    },
    {
      "cell_type": "code",
      "source": [
        "fig, ax = plt.subplots(2, 2, figsize=(15,8))\n",
        "for i in [2, 3, 4, 5]:\n",
        "    km = KMeans(n_clusters=i, init='k-means++', n_init=10, max_iter=100, random_state=42)\n",
        "    q, mod = divmod(i, 2)\n",
        "    visualizer = SilhouetteVisualizer(km, colors='yellowbrick', ax=ax[q-1][mod])\n",
        "    visualizer.fit(x)"
      ],
      "metadata": {
        "colab": {
          "base_uri": "https://localhost:8080/",
          "height": 483
        },
        "id": "zVtplhRuT8yT",
        "outputId": "ceae1b32-5260-47fd-bb61-517d0e4243ca"
      },
      "execution_count": 186,
      "outputs": [
        {
          "output_type": "display_data",
          "data": {
            "text/plain": [
              "<Figure size 1080x576 with 4 Axes>"
            ],
            "image/png": "[encoded data removed]"
          },
          "metadata": {}
        }
      ]
    },
    {
      "cell_type": "code",
      "source": [
        ""
      ],
      "metadata": {
        "id": "vlZAGqhvUCo9"
      },
      "execution_count": 184,
      "outputs": []
    },
    {
      "cell_type": "markdown",
      "source": [
        ""
      ],
      "metadata": {
        "id": "dS4vq7SWc21E"
      }
    },
    {
      "cell_type": "code",
      "source": [
        ""
      ],
      "metadata": {
        "id": "iX6wBNuhc3Tx"
      },
      "execution_count": null,
      "outputs": []
    }
  ]
}